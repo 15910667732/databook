{
 "cells": [
  {
   "cell_type": "markdown",
   "metadata": {},
   "source": [
    "# 宏观经济数据\n",
    "\n",
    "宏观经济数据提供国内重要的宏观经济数据，目前只提供比较常用的宏观经济数据，通过简单的接口调用可获取相应的DataFrame格式数据，大项主要包括以下类别：\n",
    "\n",
    "    金融信息数据\n",
    "    国民经济数据\n",
    "    价格指数数据\n",
    "    景气指数数据\n",
    "    对外经济贸易数据\n",
    "\n",
    "【注：以下所有数据的结果打印只显示了前10行记录】\n",
    "存款利率\n",
    "\n",
    "调用方法：\n",
    "```\n",
    "import tushare as ts\n",
    "\n",
    "ts.get_deposit_rate()\n",
    "```\n"
   ]
  },
  {
   "cell_type": "code",
   "execution_count": null,
   "metadata": {},
   "outputs": [],
   "source": []
  }
 ],
 "metadata": {
  "kernelspec": {
   "display_name": "Python 3",
   "language": "python",
   "name": "python3"
  },
  "language_info": {
   "codemirror_mode": {
    "name": "ipython",
    "version": 3
   },
   "file_extension": ".py",
   "mimetype": "text/x-python",
   "name": "python",
   "nbconvert_exporter": "python",
   "pygments_lexer": "ipython3",
   "version": "3.6.5"
  }
 },
 "nbformat": 4,
 "nbformat_minor": 2
}
