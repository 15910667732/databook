{
 "cells": [
  {
   "cell_type": "markdown",
   "metadata": {},
   "source": [
    "# 金融分析，框架与工具\n",
    "\n",
    "- 该工具仅用于学习数据分析使用，实际交易风险自担。\n",
    "- 源码 https://github.com/openthings/databook/finabook 。\n",
    "- 参考资源：\n",
    "    - python，主要编程语言。\n",
    "    - NumPy，数值计算模块。\n",
    "    - jupyter notebook，数据分析工具。\n",
    "    - jupyterlab，数据分析环境。\n",
    "    - matplotlab，绘图支持库。\n",
    "    - pandas，数据表工具，。\n",
    "    - tushare，财经数据接口，[http://tushare.org](http://tushare.org)\n",
    "    - ipyleaflet，地图显示模块。\n",
    "    \n",
    "## A 宏观环境\n",
    "\n",
    "- A1-宏观经济\n",
    "- A2-行业趋势\n",
    "- A3-大盘指标\n",
    "- A4-股市行情\n",
    "\n",
    "## B 投资分析\n",
    "- B1-报表分析\n",
    "- B2-投资分析\n",
    "- B3-交易分析\n",
    "- B4-价格预测\n",
    "\n",
    "## C 交易预测\n",
    "- C1-周期轮动\n",
    "- C2-水位浮动\n",
    "- C3-落差预测\n",
    "- C4-交易择时"
   ]
  },
  {
   "cell_type": "code",
   "execution_count": null,
   "metadata": {},
   "outputs": [],
   "source": []
  }
 ],
 "metadata": {
  "kernelspec": {
   "display_name": "Python 3",
   "language": "python",
   "name": "python3"
  },
  "language_info": {
   "codemirror_mode": {
    "name": "ipython",
    "version": 3
   },
   "file_extension": ".py",
   "mimetype": "text/x-python",
   "name": "python",
   "nbconvert_exporter": "python",
   "pygments_lexer": "ipython3",
   "version": "3.6.5"
  }
 },
 "nbformat": 4,
 "nbformat_minor": 2
}
