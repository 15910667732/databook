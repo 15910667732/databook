{
 "cells": [
  {
   "cell_type": "markdown",
   "metadata": {},
   "source": [
    "# AirFlow-Tutorial\n",
    "\n",
    "- https://my.oschina.net/u/2306127/blog/1843515\n"
   ]
  },
  {
   "cell_type": "code",
   "execution_count": 1,
   "metadata": {},
   "outputs": [
    {
     "name": "stdout",
     "output_type": "stream",
     "text": [
      "[2018-07-21 10:39:46,541] {__init__.py:57} INFO - Using executor SequentialExecutor\n"
     ]
    }
   ],
   "source": [
    "\"\"\"\n",
    "Code that goes along with the Airflow tutorial located at:\n",
    "https://github.com/airbnb/airflow/blob/master/airflow/example_dags/tutorial.py\n",
    "\"\"\"\n",
    "from airflow import DAG\n",
    "from airflow.operators.bash_operator import BashOperator\n",
    "from datetime import datetime, timedelta\n",
    "\n",
    "\n",
    "default_args = {\n",
    "    'owner': 'airflow',\n",
    "    'depends_on_past': False,\n",
    "    'start_date': datetime(2015, 6, 1),\n",
    "    'email': ['airflow@example.com'],\n",
    "    'email_on_failure': False,\n",
    "    'email_on_retry': False,\n",
    "    'retries': 1,\n",
    "    'retry_delay': timedelta(minutes=5),\n",
    "    # 'queue': 'bash_queue',\n",
    "    # 'pool': 'backfill',\n",
    "    # 'priority_weight': 10,\n",
    "    # 'end_date': datetime(2016, 1, 1),\n",
    "}\n",
    "\n",
    "dag = DAG('tutorial', default_args=default_args)\n",
    "\n",
    "# t1, t2 and t3 are examples of tasks created by instantiating operators\n",
    "t1 = BashOperator(\n",
    "    task_id='print_date',\n",
    "    bash_command='date',\n",
    "    dag=dag)\n",
    "\n",
    "t2 = BashOperator(\n",
    "    task_id='sleep',\n",
    "    bash_command='sleep 5',\n",
    "    retries=3,\n",
    "    dag=dag)\n",
    "\n",
    "templated_command = \"\"\"\n",
    "    {% for i in range(5) %}\n",
    "        echo \"{{ ds }}\"\n",
    "        echo \"{{ macros.ds_add(ds, 7)}}\"\n",
    "        echo \"{{ params.my_param }}\"\n",
    "    {% endfor %}\n",
    "\"\"\"\n",
    "\n",
    "t3 = BashOperator(\n",
    "    task_id='templated',\n",
    "    bash_command=templated_command,\n",
    "    params={'my_param': 'Parameter I passed in'},\n",
    "    dag=dag)\n",
    "\n",
    "t2.set_upstream(t1)\n",
    "t3.set_upstream(t1)"
   ]
  },
  {
   "cell_type": "code",
   "execution_count": 3,
   "metadata": {},
   "outputs": [
    {
     "data": {
      "text/plain": [
       "\u001b[0;31mType:\u001b[0m        BashOperator\n",
       "\u001b[0;31mString form:\u001b[0m <Task(BashOperator): sleep>\n",
       "\u001b[0;31mFile:\u001b[0m        /srv/conda/lib/python3.6/site-packages/airflow/operators/bash_operator.py\n",
       "\u001b[0;31mDocstring:\u001b[0m  \n",
       "Execute a Bash script, command or set of commands.\n",
       "\n",
       ":param bash_command: The command, set of commands or reference to a\n",
       "    bash script (must be '.sh') to be executed.\n",
       ":type bash_command: string\n",
       ":param xcom_push: If xcom_push is True, the last line written to stdout\n",
       "    will also be pushed to an XCom when the bash command completes.\n",
       ":type xcom_push: bool\n",
       ":param env: If env is not None, it must be a mapping that defines the\n",
       "    environment variables for the new process; these are used instead\n",
       "    of inheriting the current process environment, which is the default\n",
       "    behavior. (templated)\n",
       ":type env: dict\n",
       ":type output_encoding: output encoding of bash command\n"
      ]
     },
     "metadata": {},
     "output_type": "display_data"
    }
   ],
   "source": [
    "?t2"
   ]
  },
  {
   "cell_type": "code",
   "execution_count": 4,
   "metadata": {},
   "outputs": [
    {
     "data": {
      "text/plain": [
       "\u001b[0;31mType:\u001b[0m        BashOperator\n",
       "\u001b[0;31mString form:\u001b[0m <Task(BashOperator): templated>\n",
       "\u001b[0;31mFile:\u001b[0m        /srv/conda/lib/python3.6/site-packages/airflow/operators/bash_operator.py\n",
       "\u001b[0;31mDocstring:\u001b[0m  \n",
       "Execute a Bash script, command or set of commands.\n",
       "\n",
       ":param bash_command: The command, set of commands or reference to a\n",
       "    bash script (must be '.sh') to be executed.\n",
       ":type bash_command: string\n",
       ":param xcom_push: If xcom_push is True, the last line written to stdout\n",
       "    will also be pushed to an XCom when the bash command completes.\n",
       ":type xcom_push: bool\n",
       ":param env: If env is not None, it must be a mapping that defines the\n",
       "    environment variables for the new process; these are used instead\n",
       "    of inheriting the current process environment, which is the default\n",
       "    behavior. (templated)\n",
       ":type env: dict\n",
       ":type output_encoding: output encoding of bash command\n"
      ]
     },
     "metadata": {},
     "output_type": "display_data"
    }
   ],
   "source": [
    "?t3"
   ]
  },
  {
   "cell_type": "code",
   "execution_count": 5,
   "metadata": {},
   "outputs": [
    {
     "data": {
      "text/plain": [
       "\u001b[0;31mType:\u001b[0m        BashOperator\n",
       "\u001b[0;31mString form:\u001b[0m <Task(BashOperator): print_date>\n",
       "\u001b[0;31mFile:\u001b[0m        /srv/conda/lib/python3.6/site-packages/airflow/operators/bash_operator.py\n",
       "\u001b[0;31mDocstring:\u001b[0m  \n",
       "Execute a Bash script, command or set of commands.\n",
       "\n",
       ":param bash_command: The command, set of commands or reference to a\n",
       "    bash script (must be '.sh') to be executed.\n",
       ":type bash_command: string\n",
       ":param xcom_push: If xcom_push is True, the last line written to stdout\n",
       "    will also be pushed to an XCom when the bash command completes.\n",
       ":type xcom_push: bool\n",
       ":param env: If env is not None, it must be a mapping that defines the\n",
       "    environment variables for the new process; these are used instead\n",
       "    of inheriting the current process environment, which is the default\n",
       "    behavior. (templated)\n",
       ":type env: dict\n",
       ":type output_encoding: output encoding of bash command\n"
      ]
     },
     "metadata": {},
     "output_type": "display_data"
    }
   ],
   "source": [
    "?t1"
   ]
  },
  {
   "cell_type": "code",
   "execution_count": 10,
   "metadata": {},
   "outputs": [
    {
     "name": "stdout",
     "output_type": "stream",
     "text": [
      "<Task(BashOperator): sleep>\n",
      "    <Task(BashOperator): print_date>\n",
      "<Task(BashOperator): templated>\n",
      "    <Task(BashOperator): print_date>\n"
     ]
    }
   ],
   "source": [
    "dag.tree_view()"
   ]
  },
  {
   "cell_type": "code",
   "execution_count": null,
   "metadata": {},
   "outputs": [],
   "source": []
  }
 ],
 "metadata": {
  "kernelspec": {
   "display_name": "Python 3",
   "language": "python",
   "name": "python3"
  },
  "language_info": {
   "codemirror_mode": {
    "name": "ipython",
    "version": 3
   },
   "file_extension": ".py",
   "mimetype": "text/x-python",
   "name": "python",
   "nbconvert_exporter": "python",
   "pygments_lexer": "ipython3",
   "version": "3.6.5"
  }
 },
 "nbformat": 4,
 "nbformat_minor": 2
}
