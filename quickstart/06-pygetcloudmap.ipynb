{
 "cells": [
  {
   "cell_type": "markdown",
   "metadata": {},
   "source": [
    "# 使用Python下载气象云图。\n",
    "\n",
    "使用Jupyter进行交互式的网页分析，提取其中的图片标签列表，然后下载到服务器的本地目录。"
   ]
  },
  {
   "cell_type": "code",
   "execution_count": null,
   "metadata": {},
   "outputs": [],
   "source": [
    "import requests\n",
    "import gzip\n",
    "import re"
   ]
  },
  {
   "cell_type": "markdown",
   "metadata": {},
   "source": [
    "### 探索网页结构。"
   ]
  },
  {
   "cell_type": "code",
   "execution_count": null,
   "metadata": {},
   "outputs": [],
   "source": [
    "r = requests.get('http://www.weather.com.cn/static/product_video_v1.php?class=JC_YT_DL_WXZXCSYT')"
   ]
  },
  {
   "cell_type": "code",
   "execution_count": null,
   "metadata": {},
   "outputs": [],
   "source": [
    "r.status_code"
   ]
  },
  {
   "cell_type": "code",
   "execution_count": null,
   "metadata": {},
   "outputs": [],
   "source": [
    "r.text"
   ]
  },
  {
   "cell_type": "code",
   "execution_count": null,
   "metadata": {},
   "outputs": [],
   "source": [
    "urlre = re.compile(r'\\bhttp://pi.weather.com.cn/i/product/pic/m/sevp_nsmc_wxcl_asc_e99_achn_lno_py_\\d{17}.jpg\\b')\n",
    "urllist =  sorted({x.replace('/m/', '/l/') for x in urlre.findall(r.text)})"
   ]
  },
  {
   "cell_type": "code",
   "execution_count": 16,
   "metadata": {},
   "outputs": [
    {
     "data": {
      "text/plain": [
       "re.compile(r'\\bhttp://pi.weather.com.cn/i/product/pic/m/sevp_nsmc_wxcl_asc_e99_achn_lno_py_\\d{17}.jpg\\b',\n",
       "re.UNICODE)"
      ]
     },
     "execution_count": 16,
     "metadata": {},
     "output_type": "execute_result"
    }
   ],
   "source": [
    "urlre"
   ]
  },
  {
   "cell_type": "code",
   "execution_count": 17,
   "metadata": {},
   "outputs": [
    {
     "data": {
      "text/plain": [
       "['http://pi.weather.com.cn/i/product/pic/l/sevp_nsmc_wxcl_asc_e99_achn_lno_py_20180724054500000.jpg',\n",
       " 'http://pi.weather.com.cn/i/product/pic/l/sevp_nsmc_wxcl_asc_e99_achn_lno_py_20180724061500000.jpg',\n",
       " 'http://pi.weather.com.cn/i/product/pic/l/sevp_nsmc_wxcl_asc_e99_achn_lno_py_20180724064500000.jpg',\n",
       " 'http://pi.weather.com.cn/i/product/pic/l/sevp_nsmc_wxcl_asc_e99_achn_lno_py_20180724071500000.jpg',\n",
       " 'http://pi.weather.com.cn/i/product/pic/l/sevp_nsmc_wxcl_asc_e99_achn_lno_py_20180724074500000.jpg',\n",
       " 'http://pi.weather.com.cn/i/product/pic/l/sevp_nsmc_wxcl_asc_e99_achn_lno_py_20180724081500000.jpg',\n",
       " 'http://pi.weather.com.cn/i/product/pic/l/sevp_nsmc_wxcl_asc_e99_achn_lno_py_20180724084500000.jpg',\n",
       " 'http://pi.weather.com.cn/i/product/pic/l/sevp_nsmc_wxcl_asc_e99_achn_lno_py_20180724091500000.jpg',\n",
       " 'http://pi.weather.com.cn/i/product/pic/l/sevp_nsmc_wxcl_asc_e99_achn_lno_py_20180724094500000.jpg',\n",
       " 'http://pi.weather.com.cn/i/product/pic/l/sevp_nsmc_wxcl_asc_e99_achn_lno_py_20180724101500000.jpg',\n",
       " 'http://pi.weather.com.cn/i/product/pic/l/sevp_nsmc_wxcl_asc_e99_achn_lno_py_20180724104500000.jpg',\n",
       " 'http://pi.weather.com.cn/i/product/pic/l/sevp_nsmc_wxcl_asc_e99_achn_lno_py_20180724111500000.jpg',\n",
       " 'http://pi.weather.com.cn/i/product/pic/l/sevp_nsmc_wxcl_asc_e99_achn_lno_py_20180724114500000.jpg',\n",
       " 'http://pi.weather.com.cn/i/product/pic/l/sevp_nsmc_wxcl_asc_e99_achn_lno_py_20180724121500000.jpg',\n",
       " 'http://pi.weather.com.cn/i/product/pic/l/sevp_nsmc_wxcl_asc_e99_achn_lno_py_20180724124500000.jpg',\n",
       " 'http://pi.weather.com.cn/i/product/pic/l/sevp_nsmc_wxcl_asc_e99_achn_lno_py_20180724131500000.jpg',\n",
       " 'http://pi.weather.com.cn/i/product/pic/l/sevp_nsmc_wxcl_asc_e99_achn_lno_py_20180724134500000.jpg',\n",
       " 'http://pi.weather.com.cn/i/product/pic/l/sevp_nsmc_wxcl_asc_e99_achn_lno_py_20180724141500000.jpg',\n",
       " 'http://pi.weather.com.cn/i/product/pic/l/sevp_nsmc_wxcl_asc_e99_achn_lno_py_20180724144500000.jpg',\n",
       " 'http://pi.weather.com.cn/i/product/pic/l/sevp_nsmc_wxcl_asc_e99_achn_lno_py_20180724151500000.jpg',\n",
       " 'http://pi.weather.com.cn/i/product/pic/l/sevp_nsmc_wxcl_asc_e99_achn_lno_py_20180724154500000.jpg',\n",
       " 'http://pi.weather.com.cn/i/product/pic/l/sevp_nsmc_wxcl_asc_e99_achn_lno_py_20180724161500000.jpg',\n",
       " 'http://pi.weather.com.cn/i/product/pic/l/sevp_nsmc_wxcl_asc_e99_achn_lno_py_20180724164500000.jpg',\n",
       " 'http://pi.weather.com.cn/i/product/pic/l/sevp_nsmc_wxcl_asc_e99_achn_lno_py_20180724171500000.jpg',\n",
       " 'http://pi.weather.com.cn/i/product/pic/l/sevp_nsmc_wxcl_asc_e99_achn_lno_py_20180724174500000.jpg',\n",
       " 'http://pi.weather.com.cn/i/product/pic/l/sevp_nsmc_wxcl_asc_e99_achn_lno_py_20180724181500000.jpg',\n",
       " 'http://pi.weather.com.cn/i/product/pic/l/sevp_nsmc_wxcl_asc_e99_achn_lno_py_20180724184500000.jpg',\n",
       " 'http://pi.weather.com.cn/i/product/pic/l/sevp_nsmc_wxcl_asc_e99_achn_lno_py_20180724191500000.jpg',\n",
       " 'http://pi.weather.com.cn/i/product/pic/l/sevp_nsmc_wxcl_asc_e99_achn_lno_py_20180724194500000.jpg',\n",
       " 'http://pi.weather.com.cn/i/product/pic/l/sevp_nsmc_wxcl_asc_e99_achn_lno_py_20180724201500000.jpg',\n",
       " 'http://pi.weather.com.cn/i/product/pic/l/sevp_nsmc_wxcl_asc_e99_achn_lno_py_20180724211500000.jpg',\n",
       " 'http://pi.weather.com.cn/i/product/pic/l/sevp_nsmc_wxcl_asc_e99_achn_lno_py_20180724214500000.jpg',\n",
       " 'http://pi.weather.com.cn/i/product/pic/l/sevp_nsmc_wxcl_asc_e99_achn_lno_py_20180724221500000.jpg',\n",
       " 'http://pi.weather.com.cn/i/product/pic/l/sevp_nsmc_wxcl_asc_e99_achn_lno_py_20180724224500000.jpg',\n",
       " 'http://pi.weather.com.cn/i/product/pic/l/sevp_nsmc_wxcl_asc_e99_achn_lno_py_20180724231500000.jpg',\n",
       " 'http://pi.weather.com.cn/i/product/pic/l/sevp_nsmc_wxcl_asc_e99_achn_lno_py_20180724234500000.jpg',\n",
       " 'http://pi.weather.com.cn/i/product/pic/l/sevp_nsmc_wxcl_asc_e99_achn_lno_py_20180725001500000.jpg',\n",
       " 'http://pi.weather.com.cn/i/product/pic/l/sevp_nsmc_wxcl_asc_e99_achn_lno_py_20180725004500000.jpg',\n",
       " 'http://pi.weather.com.cn/i/product/pic/l/sevp_nsmc_wxcl_asc_e99_achn_lno_py_20180725011500000.jpg',\n",
       " 'http://pi.weather.com.cn/i/product/pic/l/sevp_nsmc_wxcl_asc_e99_achn_lno_py_20180725024500000.jpg',\n",
       " 'http://pi.weather.com.cn/i/product/pic/l/sevp_nsmc_wxcl_asc_e99_achn_lno_py_20180725031500000.jpg',\n",
       " 'http://pi.weather.com.cn/i/product/pic/l/sevp_nsmc_wxcl_asc_e99_achn_lno_py_20180725034500000.jpg',\n",
       " 'http://pi.weather.com.cn/i/product/pic/l/sevp_nsmc_wxcl_asc_e99_achn_lno_py_20180725041500000.jpg',\n",
       " 'http://pi.weather.com.cn/i/product/pic/l/sevp_nsmc_wxcl_asc_e99_achn_lno_py_20180725044500000.jpg',\n",
       " 'http://pi.weather.com.cn/i/product/pic/l/sevp_nsmc_wxcl_asc_e99_achn_lno_py_20180725051500000.jpg']"
      ]
     },
     "execution_count": 17,
     "metadata": {},
     "output_type": "execute_result"
    }
   ],
   "source": [
    "urllist"
   ]
  },
  {
   "cell_type": "markdown",
   "metadata": {},
   "source": [
    "### 编写为函数。"
   ]
  },
  {
   "cell_type": "code",
   "execution_count": 53,
   "metadata": {},
   "outputs": [],
   "source": [
    "# 获取图像的地址列表。\n",
    "def getPicList():\n",
    "    r = requests.get('http://www.weather.com.cn/static/product_video_v1.php?class=JC_YT_DL_WXZXCSYT')\n",
    "    urlre = re.compile(r'\\bhttp://pi.weather.com.cn/i/product/pic/m/sevp_nsmc_wxcl_asc_e99_achn_lno_py_\\d{17}.jpg\\b')\n",
    "    urllist =  sorted({x.replace('/m/', '/l/') for x in urlre.findall(r.text)})\n",
    "    return urllist\n",
    "\n",
    "# 下载图片文件，返回列表。\n",
    "def downloadPic(pic_dir,pics):\n",
    "  ret = []\n",
    "  for p in pics:\n",
    "    file = os.path.split(p)[1]\n",
    "    file = os.path.join(pic_dir, file)\n",
    "    print(\"==> \",file)\n",
    "    ret.append(file)\n",
    "    if os.path.exists(file):\n",
    "      continue\n",
    "    data = requests.get(p).content\n",
    "    open(file, 'wb').write(data)\n",
    "  print(\"Finished.\")\n",
    "  return ret"
   ]
  },
  {
   "cell_type": "markdown",
   "metadata": {},
   "source": [
    "- 获得图片下载地址列表。"
   ]
  },
  {
   "cell_type": "code",
   "execution_count": 51,
   "metadata": {},
   "outputs": [],
   "source": [
    "urls = getPicList()"
   ]
  },
  {
   "cell_type": "code",
   "execution_count": 49,
   "metadata": {},
   "outputs": [
    {
     "data": {
      "text/plain": [
       "['http://pi.weather.com.cn/i/product/pic/l/sevp_nsmc_wxcl_asc_e99_achn_lno_py_20180724061500000.jpg',\n",
       " 'http://pi.weather.com.cn/i/product/pic/l/sevp_nsmc_wxcl_asc_e99_achn_lno_py_20180724064500000.jpg',\n",
       " 'http://pi.weather.com.cn/i/product/pic/l/sevp_nsmc_wxcl_asc_e99_achn_lno_py_20180724071500000.jpg',\n",
       " 'http://pi.weather.com.cn/i/product/pic/l/sevp_nsmc_wxcl_asc_e99_achn_lno_py_20180724074500000.jpg',\n",
       " 'http://pi.weather.com.cn/i/product/pic/l/sevp_nsmc_wxcl_asc_e99_achn_lno_py_20180724081500000.jpg',\n",
       " 'http://pi.weather.com.cn/i/product/pic/l/sevp_nsmc_wxcl_asc_e99_achn_lno_py_20180724084500000.jpg',\n",
       " 'http://pi.weather.com.cn/i/product/pic/l/sevp_nsmc_wxcl_asc_e99_achn_lno_py_20180724091500000.jpg',\n",
       " 'http://pi.weather.com.cn/i/product/pic/l/sevp_nsmc_wxcl_asc_e99_achn_lno_py_20180724094500000.jpg',\n",
       " 'http://pi.weather.com.cn/i/product/pic/l/sevp_nsmc_wxcl_asc_e99_achn_lno_py_20180724101500000.jpg',\n",
       " 'http://pi.weather.com.cn/i/product/pic/l/sevp_nsmc_wxcl_asc_e99_achn_lno_py_20180724104500000.jpg',\n",
       " 'http://pi.weather.com.cn/i/product/pic/l/sevp_nsmc_wxcl_asc_e99_achn_lno_py_20180724111500000.jpg',\n",
       " 'http://pi.weather.com.cn/i/product/pic/l/sevp_nsmc_wxcl_asc_e99_achn_lno_py_20180724114500000.jpg',\n",
       " 'http://pi.weather.com.cn/i/product/pic/l/sevp_nsmc_wxcl_asc_e99_achn_lno_py_20180724121500000.jpg',\n",
       " 'http://pi.weather.com.cn/i/product/pic/l/sevp_nsmc_wxcl_asc_e99_achn_lno_py_20180724124500000.jpg',\n",
       " 'http://pi.weather.com.cn/i/product/pic/l/sevp_nsmc_wxcl_asc_e99_achn_lno_py_20180724131500000.jpg',\n",
       " 'http://pi.weather.com.cn/i/product/pic/l/sevp_nsmc_wxcl_asc_e99_achn_lno_py_20180724134500000.jpg',\n",
       " 'http://pi.weather.com.cn/i/product/pic/l/sevp_nsmc_wxcl_asc_e99_achn_lno_py_20180724141500000.jpg',\n",
       " 'http://pi.weather.com.cn/i/product/pic/l/sevp_nsmc_wxcl_asc_e99_achn_lno_py_20180724144500000.jpg',\n",
       " 'http://pi.weather.com.cn/i/product/pic/l/sevp_nsmc_wxcl_asc_e99_achn_lno_py_20180724151500000.jpg',\n",
       " 'http://pi.weather.com.cn/i/product/pic/l/sevp_nsmc_wxcl_asc_e99_achn_lno_py_20180724154500000.jpg',\n",
       " 'http://pi.weather.com.cn/i/product/pic/l/sevp_nsmc_wxcl_asc_e99_achn_lno_py_20180724161500000.jpg',\n",
       " 'http://pi.weather.com.cn/i/product/pic/l/sevp_nsmc_wxcl_asc_e99_achn_lno_py_20180724164500000.jpg',\n",
       " 'http://pi.weather.com.cn/i/product/pic/l/sevp_nsmc_wxcl_asc_e99_achn_lno_py_20180724171500000.jpg',\n",
       " 'http://pi.weather.com.cn/i/product/pic/l/sevp_nsmc_wxcl_asc_e99_achn_lno_py_20180724174500000.jpg',\n",
       " 'http://pi.weather.com.cn/i/product/pic/l/sevp_nsmc_wxcl_asc_e99_achn_lno_py_20180724181500000.jpg',\n",
       " 'http://pi.weather.com.cn/i/product/pic/l/sevp_nsmc_wxcl_asc_e99_achn_lno_py_20180724184500000.jpg',\n",
       " 'http://pi.weather.com.cn/i/product/pic/l/sevp_nsmc_wxcl_asc_e99_achn_lno_py_20180724191500000.jpg',\n",
       " 'http://pi.weather.com.cn/i/product/pic/l/sevp_nsmc_wxcl_asc_e99_achn_lno_py_20180724194500000.jpg',\n",
       " 'http://pi.weather.com.cn/i/product/pic/l/sevp_nsmc_wxcl_asc_e99_achn_lno_py_20180724201500000.jpg',\n",
       " 'http://pi.weather.com.cn/i/product/pic/l/sevp_nsmc_wxcl_asc_e99_achn_lno_py_20180724211500000.jpg',\n",
       " 'http://pi.weather.com.cn/i/product/pic/l/sevp_nsmc_wxcl_asc_e99_achn_lno_py_20180724214500000.jpg',\n",
       " 'http://pi.weather.com.cn/i/product/pic/l/sevp_nsmc_wxcl_asc_e99_achn_lno_py_20180724221500000.jpg',\n",
       " 'http://pi.weather.com.cn/i/product/pic/l/sevp_nsmc_wxcl_asc_e99_achn_lno_py_20180724224500000.jpg',\n",
       " 'http://pi.weather.com.cn/i/product/pic/l/sevp_nsmc_wxcl_asc_e99_achn_lno_py_20180724231500000.jpg',\n",
       " 'http://pi.weather.com.cn/i/product/pic/l/sevp_nsmc_wxcl_asc_e99_achn_lno_py_20180724234500000.jpg',\n",
       " 'http://pi.weather.com.cn/i/product/pic/l/sevp_nsmc_wxcl_asc_e99_achn_lno_py_20180725001500000.jpg',\n",
       " 'http://pi.weather.com.cn/i/product/pic/l/sevp_nsmc_wxcl_asc_e99_achn_lno_py_20180725004500000.jpg',\n",
       " 'http://pi.weather.com.cn/i/product/pic/l/sevp_nsmc_wxcl_asc_e99_achn_lno_py_20180725011500000.jpg',\n",
       " 'http://pi.weather.com.cn/i/product/pic/l/sevp_nsmc_wxcl_asc_e99_achn_lno_py_20180725024500000.jpg',\n",
       " 'http://pi.weather.com.cn/i/product/pic/l/sevp_nsmc_wxcl_asc_e99_achn_lno_py_20180725031500000.jpg',\n",
       " 'http://pi.weather.com.cn/i/product/pic/l/sevp_nsmc_wxcl_asc_e99_achn_lno_py_20180725034500000.jpg',\n",
       " 'http://pi.weather.com.cn/i/product/pic/l/sevp_nsmc_wxcl_asc_e99_achn_lno_py_20180725041500000.jpg',\n",
       " 'http://pi.weather.com.cn/i/product/pic/l/sevp_nsmc_wxcl_asc_e99_achn_lno_py_20180725044500000.jpg',\n",
       " 'http://pi.weather.com.cn/i/product/pic/l/sevp_nsmc_wxcl_asc_e99_achn_lno_py_20180725051500000.jpg',\n",
       " 'http://pi.weather.com.cn/i/product/pic/l/sevp_nsmc_wxcl_asc_e99_achn_lno_py_20180725054500000.jpg']"
      ]
     },
     "execution_count": 49,
     "metadata": {},
     "output_type": "execute_result"
    }
   ],
   "source": [
    "urls"
   ]
  },
  {
   "cell_type": "markdown",
   "metadata": {},
   "source": [
    "- 执行图片下载函数, 保存到 \"/home/jovyan/quickstart/cloudmap\"。"
   ]
  },
  {
   "cell_type": "code",
   "execution_count": null,
   "metadata": {},
   "outputs": [],
   "source": [
    "import os\n",
    "\n",
    "print(\"准备下载：\"，len(urls))\n",
    "rets = downloadPic(\"/home/jovyan/quickstart/cloudmap\",urls)\n",
    "print(\"下载完毕。\")"
   ]
  },
  {
   "cell_type": "code",
   "execution_count": 43,
   "metadata": {},
   "outputs": [
    {
     "name": "stdout",
     "output_type": "stream",
     "text": [
      "['/home/jovyan/quickstart/cloudmap/sevp_nsmc_wxcl_asc_e99_achn_lno_py_20180724054500000.jpg', '/home/jovyan/quickstart/cloudmap/sevp_nsmc_wxcl_asc_e99_achn_lno_py_20180724061500000.jpg', '/home/jovyan/quickstart/cloudmap/sevp_nsmc_wxcl_asc_e99_achn_lno_py_20180724064500000.jpg', '/home/jovyan/quickstart/cloudmap/sevp_nsmc_wxcl_asc_e99_achn_lno_py_20180724071500000.jpg', '/home/jovyan/quickstart/cloudmap/sevp_nsmc_wxcl_asc_e99_achn_lno_py_20180724074500000.jpg', '/home/jovyan/quickstart/cloudmap/sevp_nsmc_wxcl_asc_e99_achn_lno_py_20180724081500000.jpg', '/home/jovyan/quickstart/cloudmap/sevp_nsmc_wxcl_asc_e99_achn_lno_py_20180724084500000.jpg', '/home/jovyan/quickstart/cloudmap/sevp_nsmc_wxcl_asc_e99_achn_lno_py_20180724091500000.jpg', '/home/jovyan/quickstart/cloudmap/sevp_nsmc_wxcl_asc_e99_achn_lno_py_20180724094500000.jpg', '/home/jovyan/quickstart/cloudmap/sevp_nsmc_wxcl_asc_e99_achn_lno_py_20180724101500000.jpg', '/home/jovyan/quickstart/cloudmap/sevp_nsmc_wxcl_asc_e99_achn_lno_py_20180724104500000.jpg', '/home/jovyan/quickstart/cloudmap/sevp_nsmc_wxcl_asc_e99_achn_lno_py_20180724111500000.jpg', '/home/jovyan/quickstart/cloudmap/sevp_nsmc_wxcl_asc_e99_achn_lno_py_20180724114500000.jpg', '/home/jovyan/quickstart/cloudmap/sevp_nsmc_wxcl_asc_e99_achn_lno_py_20180724121500000.jpg', '/home/jovyan/quickstart/cloudmap/sevp_nsmc_wxcl_asc_e99_achn_lno_py_20180724124500000.jpg', '/home/jovyan/quickstart/cloudmap/sevp_nsmc_wxcl_asc_e99_achn_lno_py_20180724131500000.jpg', '/home/jovyan/quickstart/cloudmap/sevp_nsmc_wxcl_asc_e99_achn_lno_py_20180724134500000.jpg', '/home/jovyan/quickstart/cloudmap/sevp_nsmc_wxcl_asc_e99_achn_lno_py_20180724141500000.jpg', '/home/jovyan/quickstart/cloudmap/sevp_nsmc_wxcl_asc_e99_achn_lno_py_20180724144500000.jpg', '/home/jovyan/quickstart/cloudmap/sevp_nsmc_wxcl_asc_e99_achn_lno_py_20180724151500000.jpg', '/home/jovyan/quickstart/cloudmap/sevp_nsmc_wxcl_asc_e99_achn_lno_py_20180724154500000.jpg', '/home/jovyan/quickstart/cloudmap/sevp_nsmc_wxcl_asc_e99_achn_lno_py_20180724161500000.jpg', '/home/jovyan/quickstart/cloudmap/sevp_nsmc_wxcl_asc_e99_achn_lno_py_20180724164500000.jpg', '/home/jovyan/quickstart/cloudmap/sevp_nsmc_wxcl_asc_e99_achn_lno_py_20180724171500000.jpg', '/home/jovyan/quickstart/cloudmap/sevp_nsmc_wxcl_asc_e99_achn_lno_py_20180724174500000.jpg', '/home/jovyan/quickstart/cloudmap/sevp_nsmc_wxcl_asc_e99_achn_lno_py_20180724181500000.jpg', '/home/jovyan/quickstart/cloudmap/sevp_nsmc_wxcl_asc_e99_achn_lno_py_20180724184500000.jpg', '/home/jovyan/quickstart/cloudmap/sevp_nsmc_wxcl_asc_e99_achn_lno_py_20180724191500000.jpg', '/home/jovyan/quickstart/cloudmap/sevp_nsmc_wxcl_asc_e99_achn_lno_py_20180724194500000.jpg', '/home/jovyan/quickstart/cloudmap/sevp_nsmc_wxcl_asc_e99_achn_lno_py_20180724201500000.jpg', '/home/jovyan/quickstart/cloudmap/sevp_nsmc_wxcl_asc_e99_achn_lno_py_20180724211500000.jpg', '/home/jovyan/quickstart/cloudmap/sevp_nsmc_wxcl_asc_e99_achn_lno_py_20180724214500000.jpg', '/home/jovyan/quickstart/cloudmap/sevp_nsmc_wxcl_asc_e99_achn_lno_py_20180724221500000.jpg', '/home/jovyan/quickstart/cloudmap/sevp_nsmc_wxcl_asc_e99_achn_lno_py_20180724224500000.jpg', '/home/jovyan/quickstart/cloudmap/sevp_nsmc_wxcl_asc_e99_achn_lno_py_20180724231500000.jpg', '/home/jovyan/quickstart/cloudmap/sevp_nsmc_wxcl_asc_e99_achn_lno_py_20180724234500000.jpg', '/home/jovyan/quickstart/cloudmap/sevp_nsmc_wxcl_asc_e99_achn_lno_py_20180725001500000.jpg', '/home/jovyan/quickstart/cloudmap/sevp_nsmc_wxcl_asc_e99_achn_lno_py_20180725004500000.jpg', '/home/jovyan/quickstart/cloudmap/sevp_nsmc_wxcl_asc_e99_achn_lno_py_20180725011500000.jpg', '/home/jovyan/quickstart/cloudmap/sevp_nsmc_wxcl_asc_e99_achn_lno_py_20180725024500000.jpg', '/home/jovyan/quickstart/cloudmap/sevp_nsmc_wxcl_asc_e99_achn_lno_py_20180725031500000.jpg', '/home/jovyan/quickstart/cloudmap/sevp_nsmc_wxcl_asc_e99_achn_lno_py_20180725034500000.jpg', '/home/jovyan/quickstart/cloudmap/sevp_nsmc_wxcl_asc_e99_achn_lno_py_20180725041500000.jpg', '/home/jovyan/quickstart/cloudmap/sevp_nsmc_wxcl_asc_e99_achn_lno_py_20180725044500000.jpg', '/home/jovyan/quickstart/cloudmap/sevp_nsmc_wxcl_asc_e99_achn_lno_py_20180725051500000.jpg']\n"
     ]
    }
   ],
   "source": [
    "print(rets)"
   ]
  },
  {
   "cell_type": "code",
   "execution_count": 1,
   "metadata": {},
   "outputs": [
    {
     "name": "stdout",
     "output_type": "stream",
     "text": [
      "rm: cannot remove '/home/jovyan/quickstart/cloudmap/*.*': No such file or directory\n"
     ]
    }
   ],
   "source": [
    "# 清除文件\n",
    "!rm /home/jovyan/quickstart/cloudmap/*.*"
   ]
  },
  {
   "cell_type": "code",
   "execution_count": null,
   "metadata": {},
   "outputs": [],
   "source": []
  }
 ],
 "metadata": {
  "kernelspec": {
   "display_name": "Python 3",
   "language": "python",
   "name": "python3"
  },
  "language_info": {
   "codemirror_mode": {
    "name": "ipython",
    "version": 3
   },
   "file_extension": ".py",
   "mimetype": "text/x-python",
   "name": "python",
   "nbconvert_exporter": "python",
   "pygments_lexer": "ipython3",
   "version": "3.6.5"
  }
 },
 "nbformat": 4,
 "nbformat_minor": 2
}
