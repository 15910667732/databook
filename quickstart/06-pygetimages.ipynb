{
 "cells": [
  {
   "cell_type": "markdown",
   "metadata": {},
   "source": [
    "# 使用Python下载气象云图。"
   ]
  },
  {
   "cell_type": "code",
   "execution_count": 2,
   "metadata": {},
   "outputs": [],
   "source": [
    "import requests\n",
    "import gzip\n",
    "import re"
   ]
  },
  {
   "cell_type": "markdown",
   "metadata": {},
   "source": [
    "### 探索网页结构。"
   ]
  },
  {
   "cell_type": "code",
   "execution_count": 6,
   "metadata": {},
   "outputs": [],
   "source": [
    "r = requests.get('http://www.weather.com.cn/static/product_video_v1.php?class=JC_YT_DL_WXZXCSYT')"
   ]
  },
  {
   "cell_type": "code",
   "execution_count": 5,
   "metadata": {},
   "outputs": [
    {
     "data": {
      "text/plain": [
       "200"
      ]
     },
     "execution_count": 5,
     "metadata": {},
     "output_type": "execute_result"
    }
   ],
   "source": [
    "r.status_code"
   ]
  },
  {
   "cell_type": "code",
   "execution_count": 8,
   "metadata": {},
   "outputs": [
    {
     "data": {
      "text/plain": [
       "'<!DOCTYPE html PUBLIC \"-//W3C//DTD XHTML 1.1//EN\" \"http://www.w3.org/TR/xhtml11/DTD/xhtml11.dtd\">\\r\\n<html xmlns=\"http://www.w3.org/1999/xhtml\">\\r\\n<head>\\r\\n\\r\\n<title>卫星云图滚动播放-中国天气网</title>\\r\\n<meta http-equiv=\\'X-UA-Compatible\\' content=\\'IE=7\\'/>\\r\\n<meta name=\"keywords\" content=\"中国天气 气象卫星 云图滚动 雷达滚动\" />\\r\\n<meta name=\"description\" content=\"中国天气网站气象卫星首页,中国最权威、类别最齐全的气象卫星产品网站 \" /> \\r\\n\\r\\n<link href=\"/m/c/product_video.css\" rel=\"stylesheet\" type=\"text/css\" media=\"all\" />\\r\\n\\r\\n<script language=javascript src=\"/m/j/nephogram_video_v1.js\"></script>\\r\\n<script type=\"text/javascript\">\\r\\n\\r\\nfunction Open(thisform)\\r\\n{\\r\\n\\tif (thisform.options[thisform.selectedIndex].value.length>0)\\r\\n\\t\\twindow.open(thisform.options[thisform.selectedIndex].value);\\r\\n}\\r\\n</script>\\r\\n\\r\\n<script src=\"http://i.tq121.com.cn/j/jquery-1.8.2.js\" type=\"text/javascript\"></script>\\r\\n<!--<script src=\"/m/c/chajian/customize.js\" type=\"text/javascript\"></script>\\r\\n<link rel=\"StyleSheet\" media=\"screen\" href=\"/m/c/chajian/customize.css\" type=\"text/css\" />-->\\r\\n<link href=\"/m/c/newPublic.css\"  rel=\"stylesheet\" type=\"text/css\" media=\"all\" />\\r\\n<link rel=\"StyleSheet\" media=\"screen\" href=\"http://www.weather.com.cn/m2/c/searchbox2013.css?y=201409\" type=\"text/css\" />\\r\\n\\r\\n<style>\\r\\n.by a.fuwu_cp{border-right:0;}\\r\\n</style>\\r\\n\\r\\n\\r\\n<script type=\"text/javascript\" src=\"/m/j/header2014.js\"></script>\\r\\n\\r\\n\\r\\n<script type=\"text/javascript\">\\r\\nvar GO = function(elemId){\\r\\n\\treturn document.getElementById(elemId);\\r\\n}\\r\\n\\r\\n\\r\\n\\r\\n\\r\\n</script>\\r\\n\\r\\n<script type=\"text/javascript\" src=\"http://i.tq121.com.cn/j/core.js\"></script>\\r\\n<script>W.css(\\'c/weather2014/common_o.css\\',\\'c/m_search.css\\')</script>\\r\\n<script>W.use(\\'j/weather2014/news\\')</script>\\r\\n\\r\\n\\r\\n<script type=\"text/javascript\" src=\"http://www.weather.com.cn/m2/j/public/tooltips201411.js?y=201408\"></script>\\r\\n</head>\\r\\n<body>\\r\\n<input id=\"colorid\" type=\"hidden\" value=\"32\">\\r\\n\\r\\n<div id=\"toolBar\">\\r\\n  <div class=\"midBlock\">\\r\\n  <script type=\"text/javascript\" src=\"http://i.tq121.com.cn/j/weather2014/rili.js\"></script>\\r\\n  <span class=\"leftLink\" style=\" margin-right:20px;\">今天是<script language=\"javascript\">RunGLNL();</script></span>\\r\\n  <span class=\"leftLink\"><a href=\"javascript:setHomepage()\" target=\"_self\" title=\"设为首页\">设为首页</a><a href=\"http://mobile.weather.com.cn\">手机天气网</a>\\r\\n    <!--<a href=\"#\">Pad版</a>-->\\r\\n    <a href=\"http://3g.weather.com.cn/\">移动客户端</a><a href=\"http://www.weather.com.cn/static/urls.php\" target=\"_blank\">保存至桌面</a></span> <span class=\"links\">\\r\\n    <!--<a class=\"blue\" href=\"#\" title=\"登录\">登录</a>-->\\r\\n    <!--<a id=\"collect\" target=\"_self\" href=\"javascript:void(0);\"  title=\"收藏\">收藏</a>-->\\r\\n    <a id=\"provice\" href=\"javascript:void(0);\"  title=\"省级站\" target=\"_self\">省级站<i class=\"arrow\"></i></a><a id=\"eg\" href=\"http://en.weather.com.cn\" target=\"_blank\" title=\"English Version\">English</a>\\r\\n    <!--<a href=\"#\"  id=\"dl_tw\">繁體中文</a>-->\\r\\n    </span> </div>\\r\\n</div>\\r\\n<!--搜索定制头begin -->\\r\\n<div id=\"c_top\" class=\"learfix\">\\r\\n         <div id=\"idss\"></div>\\r\\n  <a href=\"http://www.weather.com.cn/\" class=\"logo\"></a>\\r\\n  <div class=\"search clearfix\">\\r\\n    <input type=\"text\" class=\"textinput\" id=\"txtZip\" value=\"输入景点名、城市名 查天气\">\\r\\n    <input type=\"button\" class=\"btn\" id=\"btnZip\" value=\"\">\\r\\n  </div>\\r\\n  <div class=\"inforesult\"> </div>\\r\\n  <div id=\"show\">\\r\\n    <ul>\\r\\n    </ul>\\r\\n  </div>\\r\\n  <div class=\"citySet\">\\r\\n    <ul class=\"top3 clearfix\">\\r\\n    </ul>\\r\\n    <ul class=\"more\">\\r\\n    </ul>\\r\\n  </div>\\r\\n</div>\\r\\n<!--搜索定制头end-->\\r\\n\\r\\n<!--小导航开始-->\\r\\n<div class=\"topNav clearfix\">\\r\\n  <ul class=\"topul_nav\">\\r\\n    <li class=\"wz0\"><a class=\"nav_a nav_a2 shouYe\" href=\"http://www.weather.com.cn/\">首页</a></li>\\r\\n    <li id=\"510\" style=\"z-index: 2;\" class=\"wz1\"> <a class=\"nav_a nav_a2 xuan_z tianjia\" href=\"http://www.weather.com.cn/forecast/\" style=\"background-color: rgb(212, 236, 253); width: 100%; height: 38px; color: rgb(44, 132, 181); background-image: none;\">天气</a>\\r\\n      <div style=\"display: block; width: 960px; left: -137px;\" class=\"tianQi by \"> <a href=\"http://www.weather.com.cn/forecast/\" class=\"tianQi_yj biaotou tianjia\" id=\"510*forecast\">国内</a>\\r\\n<a href=\"http://www.weather.com.cn/forecast/world.shtml\" class=\"tianQi_yj biaotou\" id=\"510*gjtq\">国际</a>\\r\\n <a href=\"http://www.weather.com.cn/alarm/\"  class=\"biaotou\" id=\"510*alarm\">预警</a>\\r\\n<a href=\"http://www.weather.com.cn/radar/\"  class=\"tianQi_ld biaotou\" id=\"510*radar\">雷达</a> \\r\\n<a href=\"http://www.weather.com.cn/satellite/\"  class=\"weiXin_yt  biaotou\" id=\"510*satellite\">云图</a> \\r\\n<a href=\"http://www.weather.com.cn/live/\"  class=\"xianZai_tq biaotou\" id=\"510*live\">现在天气</a> \\r\\n<a href=\"http://www.weather.com.cn/static/html/product/\"   class=\"fuwu_cp  biaotou\"  id=\"510*product\"  >专业产品</a> </div> \\r\\n    </li>\\r\\n    <li id=\"23282\" class=\"wz2\"><a class=\"nav_a nav_a2 xuan_z\" href=\"http://news.weather.com.cn/\">资讯</a> </li>\\r\\n    <li id=\"3463\" class=\"wz3\"><a class=\"nav_a nav_a2 xuan_z\" href=\"http://www.weather.com.cn/life/\">服务</a> </li>\\r\\n    <li id=\"34\" class=\"wz4\"><a class=\"nav_a nav_a2 xuan_z\" href=\"http://www.weather.com.cn/science/\">科普</a> </li>\\r\\n    <li id=\"21465\" class=\"wz5\"><a class=\"nav_a\" href=\"http://club.weather.com.cn/\">互动</a> </li>\\r\\n    <li id=\"29693\" class=\"wz6\"><a target=\"_blank\" class=\"nav_a\" href=\"http://3g.weather.com.cn/\">应用</a> </li>\\r\\n  </ul>\\r\\n</div>\\r\\n\\r\\n<!--小导航结束-->\\r\\n\\r\\n\\r\\n<script>W.use(\\'j/common\\')</script>\\r\\n\\r\\n<!--\\r\\n<div class=\"weatherwapper\">\\r\\n\\t<div class=\"tit_weatherall\">\\r\\n\\t\\t<h2>\\r\\n       <span>快速转至其他城市：\\r\\n\\t\\t\\t<iframe frameBorder=\"0\" width=\"280\" height=\"22\" scrolling=\"no\" src=\"http://www.weather.com.cn/pubmodel/inquires2.htm\" marginwidth=\"0\" marginheight=\"0\"></iframe>\\r\\n\\t\\t\\t</span>\\r\\n\\t\\t\\t<a href=\"http://www.weather.com.cn\">中国天气网</a>&nbsp;&gt;&nbsp;<a href=\"http://www.weather.com.cn/static/html/product_wx.shtml\">气象卫星</a>&nbsp;&gt;&nbsp;卫星云图\\r\\n\\t\\t</h2>\\r\\n\\t</div>\\r\\n</div>\\r\\n-->\\r\\n\\r\\n\\r\\n\\r\\n\\r\\n<div class=\"weatherMain\">\\r\\n  <div class=\"weatherLeft\">\\r\\n    <div class=\"LcolorCloud\">\\r\\n      <h1 class=\"weatheH1\">中国大陆区域彩色云图<span><strong>要素：</strong>风云二号<strong>\\u3000区域：</strong>中国</span></h1>\\r\\n      <div class=\"LcolorCloud1\">\\r\\n      <form  name=\"slideform\" >\\r\\n          <div class=\"lPlayFrame\" style=\"position:relative;\"> \\r\\n          <a target=\"_blank\" style=\"position: absolute; left: 25px; top: 0px;\"  href=\"http://www.weather.com.cn/static/product_video_v2.php\" id=\"largeY\">大图播放</a>\\r\\n          <a name=\"button\" onclick=\"first();\" title=\"Beginning\">第一帧</a>\\r\\n          <a name=\"button\" onclick=\"previous();\" title=\"Previous\">前一帧</a> \\r\\n          <a class=\"btn_business\" name=\"slidebutton\" onclick=\"ap(\\'aaa\\');\" title=\"AutoPlay\" id=\"aaa\">播放</a>\\r\\n          <a onclick=\\'next();name=\"button\"\\' title=\"Next\">后一帧</a> \\r\\n          <a name=\"button\" onclick=\"last();\" title=\"End\">最后一帧</a> \\r\\n          <a title=\"newest\" style=\"position: absolute; right: 25px; top: 0px;\" id=\"newest\" href=\"#\">查看最新一帧</a></div>\\r\\n          <div class=\"lPlayerPhoto\"><a target=\"_blank\" href=\"http://pi.weather.com.cn/i/product/pic/l/sevp_nsmc_wxcl_asc_e99_achn_lno_py_20180725051500000.jpg\" id=\"large\"><img src=\"http://pi.weather.com.cn/i/product/pic/m/sevp_nsmc_wxcl_asc_e99_achn_lno_py_20180725051500000.jpg\" width=\"570\" name=\"show\" /></a> </div>\\r\\n          <div class=\"TimezDown\">\\r\\n  \\r\\n        <select name=\"slide\"; onchange=\"change();\"  id=\"slide\">    \\t\\t\\t\\t\\t\\t\\t\\t\\t\\t\\t\\t\\t\\t\\t\\t\\t\\t\\t\\r\\n\\t\\t   \\t\\r\\n     <option value=\"http://pi.weather.com.cn/i/product/pic/m/sevp_nsmc_wxcl_asc_e99_achn_lno_py_20180724121500000.jpg\" selected=\"selected\">2018年07月24日20时15分云图</option>\\r\\n\\t       \\t\\r\\n     <option value=\"http://pi.weather.com.cn/i/product/pic/m/sevp_nsmc_wxcl_asc_e99_achn_lno_py_20180724124500000.jpg\" selected=\"selected\">2018年07月24日20时45分云图</option>\\r\\n\\t       \\t\\r\\n     <option value=\"http://pi.weather.com.cn/i/product/pic/m/sevp_nsmc_wxcl_asc_e99_achn_lno_py_20180724131500000.jpg\" selected=\"selected\">2018年07月24日21时15分云图</option>\\r\\n\\t       \\t\\r\\n     <option value=\"http://pi.weather.com.cn/i/product/pic/m/sevp_nsmc_wxcl_asc_e99_achn_lno_py_20180724134500000.jpg\" selected=\"selected\">2018年07月24日21时45分云图</option>\\r\\n\\t       \\t\\r\\n     <option value=\"http://pi.weather.com.cn/i/product/pic/m/sevp_nsmc_wxcl_asc_e99_achn_lno_py_20180724141500000.jpg\" selected=\"selected\">2018年07月24日22时15分云图</option>\\r\\n\\t       \\t\\r\\n     <option value=\"http://pi.weather.com.cn/i/product/pic/m/sevp_nsmc_wxcl_asc_e99_achn_lno_py_20180724144500000.jpg\" selected=\"selected\">2018年07月24日22时45分云图</option>\\r\\n\\t       \\t\\r\\n     <option value=\"http://pi.weather.com.cn/i/product/pic/m/sevp_nsmc_wxcl_asc_e99_achn_lno_py_20180724151500000.jpg\" selected=\"selected\">2018年07月24日23时15分云图</option>\\r\\n\\t       \\t\\r\\n     <option value=\"http://pi.weather.com.cn/i/product/pic/m/sevp_nsmc_wxcl_asc_e99_achn_lno_py_20180724154500000.jpg\" selected=\"selected\">2018年07月24日23时45分云图</option>\\r\\n\\t       \\t\\r\\n     <option value=\"http://pi.weather.com.cn/i/product/pic/m/sevp_nsmc_wxcl_asc_e99_achn_lno_py_20180724161500000.jpg\" selected=\"selected\">2018年07月25日00时15分云图</option>\\r\\n\\t       \\t\\r\\n     <option value=\"http://pi.weather.com.cn/i/product/pic/m/sevp_nsmc_wxcl_asc_e99_achn_lno_py_20180724164500000.jpg\" selected=\"selected\">2018年07月25日00时45分云图</option>\\r\\n\\t       \\t\\r\\n     <option value=\"http://pi.weather.com.cn/i/product/pic/m/sevp_nsmc_wxcl_asc_e99_achn_lno_py_20180724171500000.jpg\" selected=\"selected\">2018年07月25日01时15分云图</option>\\r\\n\\t       \\t\\r\\n     <option value=\"http://pi.weather.com.cn/i/product/pic/m/sevp_nsmc_wxcl_asc_e99_achn_lno_py_20180724174500000.jpg\" selected=\"selected\">2018年07月25日01时45分云图</option>\\r\\n\\t       \\t\\r\\n     <option value=\"http://pi.weather.com.cn/i/product/pic/m/sevp_nsmc_wxcl_asc_e99_achn_lno_py_20180724181500000.jpg\" selected=\"selected\">2018年07月25日02时15分云图</option>\\r\\n\\t       \\t\\r\\n     <option value=\"http://pi.weather.com.cn/i/product/pic/m/sevp_nsmc_wxcl_asc_e99_achn_lno_py_20180724184500000.jpg\" selected=\"selected\">2018年07月25日02时45分云图</option>\\r\\n\\t       \\t\\r\\n     <option value=\"http://pi.weather.com.cn/i/product/pic/m/sevp_nsmc_wxcl_asc_e99_achn_lno_py_20180724191500000.jpg\" selected=\"selected\">2018年07月25日03时15分云图</option>\\r\\n\\t       \\t\\r\\n     <option value=\"http://pi.weather.com.cn/i/product/pic/m/sevp_nsmc_wxcl_asc_e99_achn_lno_py_20180724194500000.jpg\" selected=\"selected\">2018年07月25日03时45分云图</option>\\r\\n\\t       \\t\\r\\n     <option value=\"http://pi.weather.com.cn/i/product/pic/m/sevp_nsmc_wxcl_asc_e99_achn_lno_py_20180724201500000.jpg\" selected=\"selected\">2018年07月25日04时15分云图</option>\\r\\n\\t       \\t\\r\\n     <option value=\"http://pi.weather.com.cn/i/product/pic/m/sevp_nsmc_wxcl_asc_e99_achn_lno_py_20180724211500000.jpg\" selected=\"selected\">2018年07月25日05时15分云图</option>\\r\\n\\t       \\t\\r\\n     <option value=\"http://pi.weather.com.cn/i/product/pic/m/sevp_nsmc_wxcl_asc_e99_achn_lno_py_20180724214500000.jpg\" selected=\"selected\">2018年07月25日05时45分云图</option>\\r\\n\\t       \\t\\r\\n     <option value=\"http://pi.weather.com.cn/i/product/pic/m/sevp_nsmc_wxcl_asc_e99_achn_lno_py_20180724221500000.jpg\" selected=\"selected\">2018年07月25日06时15分云图</option>\\r\\n\\t       \\t\\r\\n     <option value=\"http://pi.weather.com.cn/i/product/pic/m/sevp_nsmc_wxcl_asc_e99_achn_lno_py_20180724224500000.jpg\" selected=\"selected\">2018年07月25日06时45分云图</option>\\r\\n\\t       \\t\\r\\n     <option value=\"http://pi.weather.com.cn/i/product/pic/m/sevp_nsmc_wxcl_asc_e99_achn_lno_py_20180724231500000.jpg\" selected=\"selected\">2018年07月25日07时15分云图</option>\\r\\n\\t       \\t\\r\\n     <option value=\"http://pi.weather.com.cn/i/product/pic/m/sevp_nsmc_wxcl_asc_e99_achn_lno_py_20180724234500000.jpg\" selected=\"selected\">2018年07月25日07时45分云图</option>\\r\\n\\t       \\t\\r\\n     <option value=\"http://pi.weather.com.cn/i/product/pic/m/sevp_nsmc_wxcl_asc_e99_achn_lno_py_20180725001500000.jpg\" selected=\"selected\">2018年07月25日08时15分云图</option>\\r\\n\\t       \\t\\r\\n     <option value=\"http://pi.weather.com.cn/i/product/pic/m/sevp_nsmc_wxcl_asc_e99_achn_lno_py_20180725004500000.jpg\" selected=\"selected\">2018年07月25日08时45分云图</option>\\r\\n\\t       \\t\\r\\n     <option value=\"http://pi.weather.com.cn/i/product/pic/m/sevp_nsmc_wxcl_asc_e99_achn_lno_py_20180725011500000.jpg\" selected=\"selected\">2018年07月25日09时15分云图</option>\\r\\n\\t       \\t\\r\\n     <option value=\"http://pi.weather.com.cn/i/product/pic/m/sevp_nsmc_wxcl_asc_e99_achn_lno_py_20180725024500000.jpg\" selected=\"selected\">2018年07月25日10时45分云图</option>\\r\\n\\t       \\t\\r\\n     <option value=\"http://pi.weather.com.cn/i/product/pic/m/sevp_nsmc_wxcl_asc_e99_achn_lno_py_20180725031500000.jpg\" selected=\"selected\">2018年07月25日11时15分云图</option>\\r\\n\\t       \\t\\r\\n     <option value=\"http://pi.weather.com.cn/i/product/pic/m/sevp_nsmc_wxcl_asc_e99_achn_lno_py_20180725034500000.jpg\" selected=\"selected\">2018年07月25日11时45分云图</option>\\r\\n\\t       \\t\\r\\n     <option value=\"http://pi.weather.com.cn/i/product/pic/m/sevp_nsmc_wxcl_asc_e99_achn_lno_py_20180725041500000.jpg\" selected=\"selected\">2018年07月25日12时15分云图</option>\\r\\n\\t       \\t\\r\\n     <option value=\"http://pi.weather.com.cn/i/product/pic/m/sevp_nsmc_wxcl_asc_e99_achn_lno_py_20180725044500000.jpg\" selected=\"selected\">2018年07月25日12时45分云图</option>\\r\\n\\t       \\t\\r\\n     <option value=\"http://pi.weather.com.cn/i/product/pic/m/sevp_nsmc_wxcl_asc_e99_achn_lno_py_20180725051500000.jpg\" selected=\"selected\">2018年07月25日13时15分云图</option>\\r\\n\\t    \\t\\t\\t\\r\\n\\t\\t</select>\\r\\n          </div>\\r\\n         \\r\\n          <div class=\"SelectType\"> <span class=\"SelectTypeLeft\">播放速度：</span>\\r\\n            <ul class=\"SelectTypeRight\">\\r\\n              <li><input type=\"radio\" onclick=\"a_speed(\\'a\\');\" value=\"a\" name=\"speed\"/>加速</li>\\r\\n              <li><input type=\"radio\" onclick=\"a_speed(\\'c\\');\" value=\"c\" name=\"speed\"/>匀速</li>\\r\\n              <li><input type=\"radio\" onclick=\"a_speed(\\'b\\');\" value=\"b\" name=\"speed\"/> 减速</li>\\r\\n            </ul>\\r\\n          </div>\\r\\n           <div class=\"SelectType\"> <span class=\"SelectTypeLeft\">选择类型：</span>\\r\\n            <ul class=\"SelectTypeRight\">\\r\\n              <li><input type=\"radio\" onclick=\"select_eco(\\'this\\',\\'JC_YT_DL_WXZXCSYT\\')\" value=\"JC_YT_DL_WXZXCSYT\" name=\"eco\"/>大陆区域彩色</li>\\r\\n              <li><input type=\"radio\" onclick=\"select_eco(\\'this\\',\\'JC_YT_DL_SQ\\')\" value=\"JC_YT_DL_SQ\" name=\"eco\"/> 大陆区域水汽</li>\\r\\n              <li><input type=\"radio\" onclick=\"select_eco(\\'this\\',\\'JC_YT_HQ_HW\\')\" value=\"JC_YT_HQ_HW\" name=\"eco\"/>海区红外</li>\\r\\n              <li><input type=\"radio\" onclick=\"select_eco(\\'this\\',\\'JC_YT_DL_HW\\')\" value=\"JC_YT_DL_HW\" name=\"eco\"/>大陆区域红外</li>\\r\\n              <li><input type=\"radio\" onclick=\"select_eco(\\'this\\',\\'JC_YT_YPT_CSYT\\')\" value=\"JC_YT_YPT_CSYT\" name=\"eco\"/> FY-2E彩色圆盘图</li>\\r\\n              <li><input type=\"radio\" onclick=\"select_eco(\\'this\\',\\'JC_YT_YPT_SQ\\')\" value=\"JC_YT_YPT_SQ\" name=\"eco\"/>FY-2E水汽圆盘图</li>\\r\\n              <li><input type=\"radio\" onclick=\"select_eco(\\'this\\',\\'JC_YT_YPT_ZHW\\')\" value=\"JC_YT_YPT_ZHW\" name=\"eco\"/>FY-2E中红外圆盘图</li>\\r\\n              <li><input type=\"radio\" onclick=\"select_eco(\\'this\\',\\'JC_YT_YPT_KJG\\')\" value=\"JC_YT_YPT_KJG\" name=\"eco\"/>FY-2E可见光圆盘图</li>\\r\\n              <li><input type=\"radio\" onclick=\"select_eco(\\'this\\',\\'JC_YT_YPT_HW1\\')\" value=\"JC_YT_YPT_HW1\" name=\"eco\"/>FY-2E红外一圆盘图</li>\\r\\n              <li><input type=\"radio\" onclick=\"select_eco(\\'this\\',\\'JC_YT_YPT_HW2\\')\" value=\"JC_YT_YPT_HW2\" name=\"eco\"/>FY-2E红外二圆盘图</li>\\r\\n            </ul>\\r\\n          </div>\\r\\n\\r\\n       \\r\\n        <div class=\"SelectType\"> <span class=\"SelectTypeLeft\">时间跨度：</span>\\r\\n\\r\\n            <select name=\"slide1\";  id=\"slide1\">    \\t\\t\\t\\t\\t\\t\\t\\t\\t\\t\\t\\t\\t\\t\\t\\t\\t\\t\\t\\r\\n\\t\\t   \\r\\n      \\t\\t\\t\\t<option value=\"18年07月24日13时45分\"  selected=\"selected\">18年07月24日13时45分</option>\\r\\n\\t       \\r\\n      \\t\\t\\t\\t<option value=\"18年07月24日14时15分\"  selected=\"selected\">18年07月24日14时15分</option>\\r\\n\\t       \\r\\n      \\t\\t\\t\\t<option value=\"18年07月24日14时45分\"  selected=\"selected\">18年07月24日14时45分</option>\\r\\n\\t       \\r\\n      \\t\\t\\t\\t<option value=\"18年07月24日15时15分\"  selected=\"selected\">18年07月24日15时15分</option>\\r\\n\\t       \\r\\n      \\t\\t\\t\\t<option value=\"18年07月24日15时45分\"  selected=\"selected\">18年07月24日15时45分</option>\\r\\n\\t       \\r\\n      \\t\\t\\t\\t<option value=\"18年07月24日16时15分\"  selected=\"selected\">18年07月24日16时15分</option>\\r\\n\\t       \\r\\n      \\t\\t\\t\\t<option value=\"18年07月24日16时45分\"  selected=\"selected\">18年07月24日16时45分</option>\\r\\n\\t       \\r\\n      \\t\\t\\t\\t<option value=\"18年07月24日17时15分\"  selected=\"selected\">18年07月24日17时15分</option>\\r\\n\\t       \\r\\n      \\t\\t\\t\\t<option value=\"18年07月24日17时45分\"  selected=\"selected\">18年07月24日17时45分</option>\\r\\n\\t       \\r\\n      \\t\\t\\t\\t<option value=\"18年07月24日18时15分\"  selected=\"selected\">18年07月24日18时15分</option>\\r\\n\\t       \\r\\n      \\t\\t\\t\\t<option value=\"18年07月24日18时45分\"  selected=\"selected\">18年07月24日18时45分</option>\\r\\n\\t       \\r\\n      \\t\\t\\t\\t<option value=\"18年07月24日19时15分\"  selected=\"selected\">18年07月24日19时15分</option>\\r\\n\\t       \\r\\n      \\t\\t\\t\\t<option value=\"18年07月24日19时45分\"  selected=\"selected\">18年07月24日19时45分</option>\\r\\n\\t       \\r\\n      \\t\\t\\t\\t<option value=\"18年07月24日20时15分\"  selected=\"selected\">18年07月24日20时15分</option>\\r\\n\\t       \\r\\n      \\t\\t\\t\\t<option value=\"18年07月24日20时45分\"  selected=\"selected\">18年07月24日20时45分</option>\\r\\n\\t       \\r\\n      \\t\\t\\t\\t<option value=\"18年07月24日21时15分\"  selected=\"selected\">18年07月24日21时15分</option>\\r\\n\\t       \\r\\n      \\t\\t\\t\\t<option value=\"18年07月24日21时45分\"  selected=\"selected\">18年07月24日21时45分</option>\\r\\n\\t       \\r\\n      \\t\\t\\t\\t<option value=\"18年07月24日22时15分\"  selected=\"selected\">18年07月24日22时15分</option>\\r\\n\\t       \\r\\n      \\t\\t\\t\\t<option value=\"18年07月24日22时45分\"  selected=\"selected\">18年07月24日22时45分</option>\\r\\n\\t       \\r\\n      \\t\\t\\t\\t<option value=\"18年07月24日23时15分\"  selected=\"selected\">18年07月24日23时15分</option>\\r\\n\\t       \\r\\n      \\t\\t\\t\\t<option value=\"18年07月24日23时45分\"  selected=\"selected\">18年07月24日23时45分</option>\\r\\n\\t       \\r\\n      \\t\\t\\t\\t<option value=\"18年07月25日00时15分\"  selected=\"selected\">18年07月25日00时15分</option>\\r\\n\\t       \\r\\n      \\t\\t\\t\\t<option value=\"18年07月25日00时45分\"  selected=\"selected\">18年07月25日00时45分</option>\\r\\n\\t       \\r\\n      \\t\\t\\t\\t<option value=\"18年07月25日01时15分\"  selected=\"selected\">18年07月25日01时15分</option>\\r\\n\\t       \\r\\n      \\t\\t\\t\\t<option value=\"18年07月25日01时45分\"  selected=\"selected\">18年07月25日01时45分</option>\\r\\n\\t       \\r\\n      \\t\\t\\t\\t<option value=\"18年07月25日02时15分\"  selected=\"selected\">18年07月25日02时15分</option>\\r\\n\\t       \\r\\n      \\t\\t\\t\\t<option value=\"18年07月25日02时45分\"  selected=\"selected\">18年07月25日02时45分</option>\\r\\n\\t       \\r\\n      \\t\\t\\t\\t<option value=\"18年07月25日03时15分\"  selected=\"selected\">18年07月25日03时15分</option>\\r\\n\\t       \\r\\n      \\t\\t\\t\\t<option value=\"18年07月25日03时45分\"  selected=\"selected\">18年07月25日03时45分</option>\\r\\n\\t       \\r\\n      \\t\\t\\t\\t<option value=\"18年07月25日04时15分\"  selected=\"selected\">18年07月25日04时15分</option>\\r\\n\\t       \\r\\n      \\t\\t\\t\\t<option value=\"18年07月25日05时15分\"  selected=\"selected\">18年07月25日05时15分</option>\\r\\n\\t       \\r\\n      \\t\\t\\t\\t<option value=\"18年07月25日05时45分\"  selected=\"selected\">18年07月25日05时45分</option>\\r\\n\\t       \\r\\n      \\t\\t\\t\\t<option value=\"18年07月25日06时15分\"  selected=\"selected\">18年07月25日06时15分</option>\\r\\n\\t       \\r\\n      \\t\\t\\t\\t<option value=\"18年07月25日06时45分\"  selected=\"selected\">18年07月25日06时45分</option>\\r\\n\\t       \\r\\n      \\t\\t\\t\\t<option value=\"18年07月25日07时15分\"  selected=\"selected\">18年07月25日07时15分</option>\\r\\n\\t       \\r\\n      \\t\\t\\t\\t<option value=\"18年07月25日07时45分\"  selected=\"selected\">18年07月25日07时45分</option>\\r\\n\\t       \\r\\n      \\t\\t\\t\\t<option value=\"18年07月25日08时15分\"  selected=\"selected\">18年07月25日08时15分</option>\\r\\n\\t       \\r\\n      \\t\\t\\t\\t<option value=\"18年07月25日08时45分\"  selected=\"selected\">18年07月25日08时45分</option>\\r\\n\\t       \\r\\n      \\t\\t\\t\\t<option value=\"18年07月25日09时15分\"  selected=\"selected\">18年07月25日09时15分</option>\\r\\n\\t       \\r\\n      \\t\\t\\t\\t<option value=\"18年07月25日10时45分\"  selected=\"selected\">18年07月25日10时45分</option>\\r\\n\\t       \\r\\n      \\t\\t\\t\\t<option value=\"18年07月25日11时15分\"  selected=\"selected\">18年07月25日11时15分</option>\\r\\n\\t       \\r\\n      \\t\\t\\t\\t<option value=\"18年07月25日11时45分\"  selected=\"selected\">18年07月25日11时45分</option>\\r\\n\\t       \\r\\n      \\t\\t\\t\\t<option value=\"18年07月25日12时15分\"  selected=\"selected\">18年07月25日12时15分</option>\\r\\n\\t       \\r\\n      \\t\\t\\t\\t<option value=\"18年07月25日12时45分\"  selected=\"selected\">18年07月25日12时45分</option>\\r\\n\\t       \\r\\n      \\t\\t\\t\\t<option value=\"18年07月25日13时15分\"  selected=\"selected\">18年07月25日13时15分</option>\\r\\n\\t    \\t\\t\\t\\r\\n</select>\\r\\n            至\\r\\n       <select name=\"slide2\";  id=\"slide2\">    \\t\\t\\t\\t\\t\\t\\t\\t\\t\\t\\t\\t\\t\\t\\t\\t\\t\\t\\t\\r\\n\\t\\t   \\r\\n      \\t\\t\\t\\t<option value=\"18年07月24日13时45分\"  selected=\"selected\">18年07月24日13时45分</option>\\r\\n\\t       \\r\\n      \\t\\t\\t\\t<option value=\"18年07月24日14时15分\"  selected=\"selected\">18年07月24日14时15分</option>\\r\\n\\t       \\r\\n      \\t\\t\\t\\t<option value=\"18年07月24日14时45分\"  selected=\"selected\">18年07月24日14时45分</option>\\r\\n\\t       \\r\\n      \\t\\t\\t\\t<option value=\"18年07月24日15时15分\"  selected=\"selected\">18年07月24日15时15分</option>\\r\\n\\t       \\r\\n      \\t\\t\\t\\t<option value=\"18年07月24日15时45分\"  selected=\"selected\">18年07月24日15时45分</option>\\r\\n\\t       \\r\\n      \\t\\t\\t\\t<option value=\"18年07月24日16时15分\"  selected=\"selected\">18年07月24日16时15分</option>\\r\\n\\t       \\r\\n      \\t\\t\\t\\t<option value=\"18年07月24日16时45分\"  selected=\"selected\">18年07月24日16时45分</option>\\r\\n\\t       \\r\\n      \\t\\t\\t\\t<option value=\"18年07月24日17时15分\"  selected=\"selected\">18年07月24日17时15分</option>\\r\\n\\t       \\r\\n      \\t\\t\\t\\t<option value=\"18年07月24日17时45分\"  selected=\"selected\">18年07月24日17时45分</option>\\r\\n\\t       \\r\\n      \\t\\t\\t\\t<option value=\"18年07月24日18时15分\"  selected=\"selected\">18年07月24日18时15分</option>\\r\\n\\t       \\r\\n      \\t\\t\\t\\t<option value=\"18年07月24日18时45分\"  selected=\"selected\">18年07月24日18时45分</option>\\r\\n\\t       \\r\\n      \\t\\t\\t\\t<option value=\"18年07月24日19时15分\"  selected=\"selected\">18年07月24日19时15分</option>\\r\\n\\t       \\r\\n      \\t\\t\\t\\t<option value=\"18年07月24日19时45分\"  selected=\"selected\">18年07月24日19时45分</option>\\r\\n\\t       \\r\\n      \\t\\t\\t\\t<option value=\"18年07月24日20时15分\"  selected=\"selected\">18年07月24日20时15分</option>\\r\\n\\t       \\r\\n      \\t\\t\\t\\t<option value=\"18年07月24日20时45分\"  selected=\"selected\">18年07月24日20时45分</option>\\r\\n\\t       \\r\\n      \\t\\t\\t\\t<option value=\"18年07月24日21时15分\"  selected=\"selected\">18年07月24日21时15分</option>\\r\\n\\t       \\r\\n      \\t\\t\\t\\t<option value=\"18年07月24日21时45分\"  selected=\"selected\">18年07月24日21时45分</option>\\r\\n\\t       \\r\\n      \\t\\t\\t\\t<option value=\"18年07月24日22时15分\"  selected=\"selected\">18年07月24日22时15分</option>\\r\\n\\t       \\r\\n      \\t\\t\\t\\t<option value=\"18年07月24日22时45分\"  selected=\"selected\">18年07月24日22时45分</option>\\r\\n\\t       \\r\\n      \\t\\t\\t\\t<option value=\"18年07月24日23时15分\"  selected=\"selected\">18年07月24日23时15分</option>\\r\\n\\t       \\r\\n      \\t\\t\\t\\t<option value=\"18年07月24日23时45分\"  selected=\"selected\">18年07月24日23时45分</option>\\r\\n\\t       \\r\\n      \\t\\t\\t\\t<option value=\"18年07月25日00时15分\"  selected=\"selected\">18年07月25日00时15分</option>\\r\\n\\t       \\r\\n      \\t\\t\\t\\t<option value=\"18年07月25日00时45分\"  selected=\"selected\">18年07月25日00时45分</option>\\r\\n\\t       \\r\\n      \\t\\t\\t\\t<option value=\"18年07月25日01时15分\"  selected=\"selected\">18年07月25日01时15分</option>\\r\\n\\t       \\r\\n      \\t\\t\\t\\t<option value=\"18年07月25日01时45分\"  selected=\"selected\">18年07月25日01时45分</option>\\r\\n\\t       \\r\\n      \\t\\t\\t\\t<option value=\"18年07月25日02时15分\"  selected=\"selected\">18年07月25日02时15分</option>\\r\\n\\t       \\r\\n      \\t\\t\\t\\t<option value=\"18年07月25日02时45分\"  selected=\"selected\">18年07月25日02时45分</option>\\r\\n\\t       \\r\\n      \\t\\t\\t\\t<option value=\"18年07月25日03时15分\"  selected=\"selected\">18年07月25日03时15分</option>\\r\\n\\t       \\r\\n      \\t\\t\\t\\t<option value=\"18年07月25日03时45分\"  selected=\"selected\">18年07月25日03时45分</option>\\r\\n\\t       \\r\\n      \\t\\t\\t\\t<option value=\"18年07月25日04时15分\"  selected=\"selected\">18年07月25日04时15分</option>\\r\\n\\t       \\r\\n      \\t\\t\\t\\t<option value=\"18年07月25日05时15分\"  selected=\"selected\">18年07月25日05时15分</option>\\r\\n\\t       \\r\\n      \\t\\t\\t\\t<option value=\"18年07月25日05时45分\"  selected=\"selected\">18年07月25日05时45分</option>\\r\\n\\t       \\r\\n      \\t\\t\\t\\t<option value=\"18年07月25日06时15分\"  selected=\"selected\">18年07月25日06时15分</option>\\r\\n\\t       \\r\\n      \\t\\t\\t\\t<option value=\"18年07月25日06时45分\"  selected=\"selected\">18年07月25日06时45分</option>\\r\\n\\t       \\r\\n      \\t\\t\\t\\t<option value=\"18年07月25日07时15分\"  selected=\"selected\">18年07月25日07时15分</option>\\r\\n\\t       \\r\\n      \\t\\t\\t\\t<option value=\"18年07月25日07时45分\"  selected=\"selected\">18年07月25日07时45分</option>\\r\\n\\t       \\r\\n      \\t\\t\\t\\t<option value=\"18年07月25日08时15分\"  selected=\"selected\">18年07月25日08时15分</option>\\r\\n\\t       \\r\\n      \\t\\t\\t\\t<option value=\"18年07月25日08时45分\"  selected=\"selected\">18年07月25日08时45分</option>\\r\\n\\t       \\r\\n      \\t\\t\\t\\t<option value=\"18年07月25日09时15分\"  selected=\"selected\">18年07月25日09时15分</option>\\r\\n\\t       \\r\\n      \\t\\t\\t\\t<option value=\"18年07月25日10时45分\"  selected=\"selected\">18年07月25日10时45分</option>\\r\\n\\t       \\r\\n      \\t\\t\\t\\t<option value=\"18年07月25日11时15分\"  selected=\"selected\">18年07月25日11时15分</option>\\r\\n\\t       \\r\\n      \\t\\t\\t\\t<option value=\"18年07月25日11时45分\"  selected=\"selected\">18年07月25日11时45分</option>\\r\\n\\t       \\r\\n      \\t\\t\\t\\t<option value=\"18年07月25日12时15分\"  selected=\"selected\">18年07月25日12时15分</option>\\r\\n\\t       \\r\\n      \\t\\t\\t\\t<option value=\"18年07月25日12时45分\"  selected=\"selected\">18年07月25日12时45分</option>\\r\\n\\t       \\r\\n      \\t\\t\\t\\t<option value=\"18年07月25日13时15分\"  selected=\"selected\">18年07月25日13时15分</option>\\r\\n\\t    \\t\\r\\n</select>\\r\\n            <a id=\"bbb\" title=AutoPlay onclick=\"ap1(\\'bbb\\');\" name=\"slidebutton\" class=\"btn_business\"  style=\"cursor:pointer;\">播放</a>\\r\\n             </div>\\r\\n      </div>\\r\\n    </div>\\r\\n  </div>\\r\\n  <select name=\"slide3\";  id=\"slide3\" style=\"display:none;\" type=\"hidden\" >    \\t\\t\\t\\t\\t\\t\\t\\t\\t\\t\\t\\t\\t\\t\\t\\t\\t\\t\\t\\r\\n\\t\\t   \\r\\n      \\t\\t\\t\\t<option value=\"http://pi.weather.com.cn/i/product/pic/m/sevp_nsmc_wxcl_asc_e99_achn_lno_py_20180724054500000.jpg\"   selected=\"selected\" >2018年07月24日13时45分云图</option>\\r\\n\\t       \\r\\n      \\t\\t\\t\\t<option value=\"http://pi.weather.com.cn/i/product/pic/m/sevp_nsmc_wxcl_asc_e99_achn_lno_py_20180724061500000.jpg\"   selected=\"selected\" >2018年07月24日14时15分云图</option>\\r\\n\\t       \\r\\n      \\t\\t\\t\\t<option value=\"http://pi.weather.com.cn/i/product/pic/m/sevp_nsmc_wxcl_asc_e99_achn_lno_py_20180724064500000.jpg\"   selected=\"selected\" >2018年07月24日14时45分云图</option>\\r\\n\\t       \\r\\n      \\t\\t\\t\\t<option value=\"http://pi.weather.com.cn/i/product/pic/m/sevp_nsmc_wxcl_asc_e99_achn_lno_py_20180724071500000.jpg\"   selected=\"selected\" >2018年07月24日15时15分云图</option>\\r\\n\\t       \\r\\n      \\t\\t\\t\\t<option value=\"http://pi.weather.com.cn/i/product/pic/m/sevp_nsmc_wxcl_asc_e99_achn_lno_py_20180724074500000.jpg\"   selected=\"selected\" >2018年07月24日15时45分云图</option>\\r\\n\\t       \\r\\n      \\t\\t\\t\\t<option value=\"http://pi.weather.com.cn/i/product/pic/m/sevp_nsmc_wxcl_asc_e99_achn_lno_py_20180724081500000.jpg\"   selected=\"selected\" >2018年07月24日16时15分云图</option>\\r\\n\\t       \\r\\n      \\t\\t\\t\\t<option value=\"http://pi.weather.com.cn/i/product/pic/m/sevp_nsmc_wxcl_asc_e99_achn_lno_py_20180724084500000.jpg\"   selected=\"selected\" >2018年07月24日16时45分云图</option>\\r\\n\\t       \\r\\n      \\t\\t\\t\\t<option value=\"http://pi.weather.com.cn/i/product/pic/m/sevp_nsmc_wxcl_asc_e99_achn_lno_py_20180724091500000.jpg\"   selected=\"selected\" >2018年07月24日17时15分云图</option>\\r\\n\\t       \\r\\n      \\t\\t\\t\\t<option value=\"http://pi.weather.com.cn/i/product/pic/m/sevp_nsmc_wxcl_asc_e99_achn_lno_py_20180724094500000.jpg\"   selected=\"selected\" >2018年07月24日17时45分云图</option>\\r\\n\\t       \\r\\n      \\t\\t\\t\\t<option value=\"http://pi.weather.com.cn/i/product/pic/m/sevp_nsmc_wxcl_asc_e99_achn_lno_py_20180724101500000.jpg\"   selected=\"selected\" >2018年07月24日18时15分云图</option>\\r\\n\\t       \\r\\n      \\t\\t\\t\\t<option value=\"http://pi.weather.com.cn/i/product/pic/m/sevp_nsmc_wxcl_asc_e99_achn_lno_py_20180724104500000.jpg\"   selected=\"selected\" >2018年07月24日18时45分云图</option>\\r\\n\\t       \\r\\n      \\t\\t\\t\\t<option value=\"http://pi.weather.com.cn/i/product/pic/m/sevp_nsmc_wxcl_asc_e99_achn_lno_py_20180724111500000.jpg\"   selected=\"selected\" >2018年07月24日19时15分云图</option>\\r\\n\\t       \\r\\n      \\t\\t\\t\\t<option value=\"http://pi.weather.com.cn/i/product/pic/m/sevp_nsmc_wxcl_asc_e99_achn_lno_py_20180724114500000.jpg\"   selected=\"selected\" >2018年07月24日19时45分云图</option>\\r\\n\\t       \\r\\n      \\t\\t\\t\\t<option value=\"http://pi.weather.com.cn/i/product/pic/m/sevp_nsmc_wxcl_asc_e99_achn_lno_py_20180724121500000.jpg\"   selected=\"selected\" >2018年07月24日20时15分云图</option>\\r\\n\\t       \\r\\n      \\t\\t\\t\\t<option value=\"http://pi.weather.com.cn/i/product/pic/m/sevp_nsmc_wxcl_asc_e99_achn_lno_py_20180724124500000.jpg\"   selected=\"selected\" >2018年07月24日20时45分云图</option>\\r\\n\\t       \\r\\n      \\t\\t\\t\\t<option value=\"http://pi.weather.com.cn/i/product/pic/m/sevp_nsmc_wxcl_asc_e99_achn_lno_py_20180724131500000.jpg\"   selected=\"selected\" >2018年07月24日21时15分云图</option>\\r\\n\\t       \\r\\n      \\t\\t\\t\\t<option value=\"http://pi.weather.com.cn/i/product/pic/m/sevp_nsmc_wxcl_asc_e99_achn_lno_py_20180724134500000.jpg\"   selected=\"selected\" >2018年07月24日21时45分云图</option>\\r\\n\\t       \\r\\n      \\t\\t\\t\\t<option value=\"http://pi.weather.com.cn/i/product/pic/m/sevp_nsmc_wxcl_asc_e99_achn_lno_py_20180724141500000.jpg\"   selected=\"selected\" >2018年07月24日22时15分云图</option>\\r\\n\\t       \\r\\n      \\t\\t\\t\\t<option value=\"http://pi.weather.com.cn/i/product/pic/m/sevp_nsmc_wxcl_asc_e99_achn_lno_py_20180724144500000.jpg\"   selected=\"selected\" >2018年07月24日22时45分云图</option>\\r\\n\\t       \\r\\n      \\t\\t\\t\\t<option value=\"http://pi.weather.com.cn/i/product/pic/m/sevp_nsmc_wxcl_asc_e99_achn_lno_py_20180724151500000.jpg\"   selected=\"selected\" >2018年07月24日23时15分云图</option>\\r\\n\\t       \\r\\n      \\t\\t\\t\\t<option value=\"http://pi.weather.com.cn/i/product/pic/m/sevp_nsmc_wxcl_asc_e99_achn_lno_py_20180724154500000.jpg\"   selected=\"selected\" >2018年07月24日23时45分云图</option>\\r\\n\\t       \\r\\n      \\t\\t\\t\\t<option value=\"http://pi.weather.com.cn/i/product/pic/m/sevp_nsmc_wxcl_asc_e99_achn_lno_py_20180724161500000.jpg\"   selected=\"selected\" >2018年07月25日00时15分云图</option>\\r\\n\\t       \\r\\n      \\t\\t\\t\\t<option value=\"http://pi.weather.com.cn/i/product/pic/m/sevp_nsmc_wxcl_asc_e99_achn_lno_py_20180724164500000.jpg\"   selected=\"selected\" >2018年07月25日00时45分云图</option>\\r\\n\\t       \\r\\n      \\t\\t\\t\\t<option value=\"http://pi.weather.com.cn/i/product/pic/m/sevp_nsmc_wxcl_asc_e99_achn_lno_py_20180724171500000.jpg\"   selected=\"selected\" >2018年07月25日01时15分云图</option>\\r\\n\\t       \\r\\n      \\t\\t\\t\\t<option value=\"http://pi.weather.com.cn/i/product/pic/m/sevp_nsmc_wxcl_asc_e99_achn_lno_py_20180724174500000.jpg\"   selected=\"selected\" >2018年07月25日01时45分云图</option>\\r\\n\\t       \\r\\n      \\t\\t\\t\\t<option value=\"http://pi.weather.com.cn/i/product/pic/m/sevp_nsmc_wxcl_asc_e99_achn_lno_py_20180724181500000.jpg\"   selected=\"selected\" >2018年07月25日02时15分云图</option>\\r\\n\\t       \\r\\n      \\t\\t\\t\\t<option value=\"http://pi.weather.com.cn/i/product/pic/m/sevp_nsmc_wxcl_asc_e99_achn_lno_py_20180724184500000.jpg\"   selected=\"selected\" >2018年07月25日02时45分云图</option>\\r\\n\\t       \\r\\n      \\t\\t\\t\\t<option value=\"http://pi.weather.com.cn/i/product/pic/m/sevp_nsmc_wxcl_asc_e99_achn_lno_py_20180724191500000.jpg\"   selected=\"selected\" >2018年07月25日03时15分云图</option>\\r\\n\\t       \\r\\n      \\t\\t\\t\\t<option value=\"http://pi.weather.com.cn/i/product/pic/m/sevp_nsmc_wxcl_asc_e99_achn_lno_py_20180724194500000.jpg\"   selected=\"selected\" >2018年07月25日03时45分云图</option>\\r\\n\\t       \\r\\n      \\t\\t\\t\\t<option value=\"http://pi.weather.com.cn/i/product/pic/m/sevp_nsmc_wxcl_asc_e99_achn_lno_py_20180724201500000.jpg\"   selected=\"selected\" >2018年07月25日04时15分云图</option>\\r\\n\\t       \\r\\n      \\t\\t\\t\\t<option value=\"http://pi.weather.com.cn/i/product/pic/m/sevp_nsmc_wxcl_asc_e99_achn_lno_py_20180724211500000.jpg\"   selected=\"selected\" >2018年07月25日05时15分云图</option>\\r\\n\\t       \\r\\n      \\t\\t\\t\\t<option value=\"http://pi.weather.com.cn/i/product/pic/m/sevp_nsmc_wxcl_asc_e99_achn_lno_py_20180724214500000.jpg\"   selected=\"selected\" >2018年07月25日05时45分云图</option>\\r\\n\\t       \\r\\n      \\t\\t\\t\\t<option value=\"http://pi.weather.com.cn/i/product/pic/m/sevp_nsmc_wxcl_asc_e99_achn_lno_py_20180724221500000.jpg\"   selected=\"selected\" >2018年07月25日06时15分云图</option>\\r\\n\\t       \\r\\n      \\t\\t\\t\\t<option value=\"http://pi.weather.com.cn/i/product/pic/m/sevp_nsmc_wxcl_asc_e99_achn_lno_py_20180724224500000.jpg\"   selected=\"selected\" >2018年07月25日06时45分云图</option>\\r\\n\\t       \\r\\n      \\t\\t\\t\\t<option value=\"http://pi.weather.com.cn/i/product/pic/m/sevp_nsmc_wxcl_asc_e99_achn_lno_py_20180724231500000.jpg\"   selected=\"selected\" >2018年07月25日07时15分云图</option>\\r\\n\\t       \\r\\n      \\t\\t\\t\\t<option value=\"http://pi.weather.com.cn/i/product/pic/m/sevp_nsmc_wxcl_asc_e99_achn_lno_py_20180724234500000.jpg\"   selected=\"selected\" >2018年07月25日07时45分云图</option>\\r\\n\\t       \\r\\n      \\t\\t\\t\\t<option value=\"http://pi.weather.com.cn/i/product/pic/m/sevp_nsmc_wxcl_asc_e99_achn_lno_py_20180725001500000.jpg\"   selected=\"selected\" >2018年07月25日08时15分云图</option>\\r\\n\\t       \\r\\n      \\t\\t\\t\\t<option value=\"http://pi.weather.com.cn/i/product/pic/m/sevp_nsmc_wxcl_asc_e99_achn_lno_py_20180725004500000.jpg\"   selected=\"selected\" >2018年07月25日08时45分云图</option>\\r\\n\\t       \\r\\n      \\t\\t\\t\\t<option value=\"http://pi.weather.com.cn/i/product/pic/m/sevp_nsmc_wxcl_asc_e99_achn_lno_py_20180725011500000.jpg\"   selected=\"selected\" >2018年07月25日09时15分云图</option>\\r\\n\\t       \\r\\n      \\t\\t\\t\\t<option value=\"http://pi.weather.com.cn/i/product/pic/m/sevp_nsmc_wxcl_asc_e99_achn_lno_py_20180725024500000.jpg\"   selected=\"selected\" >2018年07月25日10时45分云图</option>\\r\\n\\t       \\r\\n      \\t\\t\\t\\t<option value=\"http://pi.weather.com.cn/i/product/pic/m/sevp_nsmc_wxcl_asc_e99_achn_lno_py_20180725031500000.jpg\"   selected=\"selected\" >2018年07月25日11时15分云图</option>\\r\\n\\t       \\r\\n      \\t\\t\\t\\t<option value=\"http://pi.weather.com.cn/i/product/pic/m/sevp_nsmc_wxcl_asc_e99_achn_lno_py_20180725034500000.jpg\"   selected=\"selected\" >2018年07月25日11时45分云图</option>\\r\\n\\t       \\r\\n      \\t\\t\\t\\t<option value=\"http://pi.weather.com.cn/i/product/pic/m/sevp_nsmc_wxcl_asc_e99_achn_lno_py_20180725041500000.jpg\"   selected=\"selected\" >2018年07月25日12时15分云图</option>\\r\\n\\t       \\r\\n      \\t\\t\\t\\t<option value=\"http://pi.weather.com.cn/i/product/pic/m/sevp_nsmc_wxcl_asc_e99_achn_lno_py_20180725044500000.jpg\"   selected=\"selected\" >2018年07月25日12时45分云图</option>\\r\\n\\t       \\r\\n      \\t\\t\\t\\t<option value=\"http://pi.weather.com.cn/i/product/pic/m/sevp_nsmc_wxcl_asc_e99_achn_lno_py_20180725051500000.jpg\"   selected=\"selected\" >2018年07月25日13时15分云图</option>\\r\\n\\t    \\t\\r\\n</select>\\r\\n   </form>\\r\\n   \\r\\n   \\r\\n   \\r\\n  <div class=\"weatherRight\">\\r\\n    <div class=\"ShowPic\"> <a target=\"_blank\" href=\"http://www.weather.com.cn/static/html/about/wxdcwj.html\"><img height=\"138\" width=\"300\" src=\"/m/i/wx_ad.jpg\"/></a> </div>\\r\\n    <div class=\"LatestUpdateServiceProducts\">\\r\\n      <h2 class=\"mainBoxh1\">最新更新的服务产品</h2>\\r\\n      <ul>\\r\\n              <li><a href=\"/static/product.php?class=JC_DM_NJD_00H\" target=\"_blank\"> </a><span>[07月25日 20时00分]</span></li>\\r\\n        <li><a href=\"/static/product.php?class=JC_DM_W_24\" target=\"_blank\">全国雾实况图（24小时） </a><span>[07月25日 15时00分]</span></li>\\r\\n        <li><a href=\"/static/product.php?class=YB_TQQS_3D\" target=\"_blank\">未来三天天气趋势预报 </a><span>[07月25日 15时00分]</span></li>\\r\\n        <li><a href=\"/static/product.php?class=YB_LD_LJ_30T45\" target=\"_blank\">雷电临近预报(30-45min) </a><span>[07月25日 13时00分]</span></li>\\r\\n        <li><a href=\"/static/product.php?class=YB_LD_LJ0\" target=\"_blank\">雷电临近预报(45-60min) </a><span>[07月25日 13时00分]</span></li>\\r\\n        <li><a href=\"/static/product.php?class=YB_LD_LJ_ZDQY\" target=\"_blank\">雷电临近重点区域预报 </a><span>[07月25日 13时00分]</span></li>\\r\\n        <li><a href=\"/static/product.php?class=JC_LD_BJ\" target=\"_blank\">北京地闪监测 </a><span>[07月25日 13时00分]</span></li>\\r\\n        <li><a href=\"/static/product.php?class=YB_LD_LJ_15T30\" target=\"_blank\">雷电临近预报(15-30min) </a><span>[07月25日 13时00分]</span></li>\\r\\n        <li><a href=\"/static/product.php?class=JC_LD_CHN\" target=\"_blank\">全国地闪监测 </a><span>[07月25日 13时00分]</span></li>\\r\\n        <li><a href=\"/static/product.php?class=YB_LD_LJ_YDQS\" target=\"_blank\">北京雷电移动趋势预报 </a><span>[07月25日 13时00分]</span></li>\\r\\n        <li><a href=\"/static/product.php?class=JC_LD_HH\" target=\"_blank\">半小时雷电图 </a><span>[07月25日 13时00分]</span></li>\\r\\n\\r\\n        \\r\\n      </ul>\\r\\n      <div class=\"more\"><a href=\"http://www.weather.com.cn/static/html/product/index.shtml\" target=\"_blank\">更多</a></div>\\r\\n    </div>\\r\\n        <div class=\"LatestUpdateServiceProducts\">\\r\\n      <h2 class=\"mainBoxh1\">推荐您浏览的服务</h2>\\r\\n      <ul>\\r\\n             <li><a href=\"http://products.weather.com.cn/product/Index/index/procode/YB_BW_ZD24.shtml\" target=\"_blank\">今日最低气温变化预报 </a><span>[03月07日 08时00分]</span></li>\\r\\n     <li><a href=\"http://products.weather.com.cn/product/Index/index/procode/YB_BW_ZG24.shtml\" target=\"_blank\">今日最高气温变化预报 </a><span>[03月08日 08时00分]</span></li>\\r\\n     <li><a href=\"http://products.weather.com.cn/product/Index/index/procode/JC_WX_DBWD.shtml\" target=\"_blank\">旬全国地表温度图 </a><span>[07月23日 08时00分]</span></li>\\r\\n     <li><a href=\"http://products.weather.com.cn/product/Index/index/procode/JC_JSL_02405.shtml\" target=\"_blank\">全国降水量实况 </a><span>[07月24日 05时00分]</span></li>\\r\\n     <li><a href=\"http://products.weather.com.cn/product/Index/index/procode/YB_JSL_024.shtml\" target=\"_blank\">全国24小时降水量预报 </a><span>[07月25日 07时00分]</span></li>\\r\\n     <li><a href=\"http://products.weather.com.cn/product/Index/index/procode/YB_JSL_048.shtml\" target=\"_blank\">全国48小时降水量预报 </a><span>[07月25日 08时00分]</span></li>\\r\\n     <li><a href=\"http://products.weather.com.cn/product/Index/index/procode/JC_JSL_JPL10.shtml\" target=\"_blank\">全国10天降水距平 </a><span>[07月25日 08时00分]</span></li>\\r\\n      </ul>\\r\\n      <div class=\"more\"><a href=\"http://www.weather.com.cn/static/html/product/index.shtml\" target=\"_blank\">更多</a></div>\\r\\n    </div>\\r\\n\\r\\n<!DOCTYPE html PUBLIC \"-//W3C//DTD XHTML 1.0 Transitional//EN\" \"http://www.w3.org/TR/xhtml1/DTD/xhtml1-transitional.dtd\">\\r\\n<html xmlns=\"http://www.w3.org/1999/xhtml\">\\r\\n<head>\\r\\n<meta http-equiv=\"Content-Type\" content=\"text/html; charset=UTF-8\" />\\r\\n<title>气象服务</title>\\r\\n</head>\\r\\n\\r\\n<link href=\"/m/c/qxfw.css\"  rel=\"stylesheet\" type=\"text/css\" media=\"all\" />\\r\\n\\r\\n\\r\\n<!--<script type=\"text/javascript\" src=\"/m/j/header.js\"></script>-->\\r\\n\\r\\n<div class=\"mobile_weather\">\\r\\n <h2>气象服务</h2> \\r\\n \\t  <dl style=\"background: url(/m/i/index/icon_mobile033.gif) no-repeat 0 5px;border-bottom: 1px solid #CCC;border-bottom: 1px solid #CCC;\"><p style=\"width:45px; float:left;\"><a href=\"http://www.weather.com.cn/wzfw/kfzx/index.shtml\" target=\"_blank\"><img style=\"border:0px;\" src=\"/m/i/kefutm.gif\"></a></p>\\r\\n        <dt style=\"color:#3366bb;\"><strong><a  href=\"http://www.weather.com.cn/wzfw/kfzx/index.shtml\" target=\"_blank\" style=\"color:#ff0000;\">气象服务热线</a></strong></dt>\\r\\n        <dd>拨打400-6000-121进行气象服务咨询、建议、合作与投诉</dd>\\r\\n      </dl>\\r\\n\\t  \\r\\n      <dl style=\"background: url(/m/i/index/icon_mobile01.gif) no-repeat 0 5px;border-bottom: 1px solid #CCC;border-bottom: 1px solid #CCC;\">\\r\\n        <dt style=\"color:#3366bb;\"><strong>天气预报电话查询</strong></dt>\\r\\n        <dd>拨打12121或96121进行天气预报查询</dd>\\r\\n      </dl>\\r\\n\\t  \\r\\n      <dl style=\"background: url(/m/i/index/icon_mobile03.gif) no-repeat 0 5px;\">\\r\\n        <dt><a href=\"http://www.weather.com.cn/wzfw/wapb/index.shtml\" target=\"_blank\">手机查询</a></dt>\\r\\n        <dd> 随时随地通过手机登陆中国天气WAP版查看各地天气资讯</dd>\\r\\n      </dl>\\r\\n\\r\\n</div>  </div>\\r\\n  <div class=\"cleardiv\"></div>\\r\\n</div>\\r\\n\\r\\n\\r\\n\\r\\n <script language=\"JavaScript\">\\r\\n  function set_v(name)\\r\\n{ \\r\\n\\t\\tif (name==\"1\")\\r\\n\\t\\t{ \\r\\n\\t\\t\\tap(\\'aaa\\');\\r\\n\\t\\t} \\r\\n\\r\\n} \\r\\n\\r\\n function set_v1(name)\\r\\n{ \\r\\n\\t\\tif (name==\"1\")\\r\\n\\t\\t{ \\r\\n\\t\\t\\tap1(\\'bbb\\');\\r\\n\\t\\t} \\r\\n\\r\\n} \\r\\n \\r\\n function set_eco(name)\\r\\n{ \\r\\n\\tvar num=document.slideform.eco.length;\\r\\n\\tfor (i=0;i<num;i++)\\r\\n\\t{ \\r\\n\\t\\t\\tif (document.slideform.eco[i].value==name)\\r\\n\\t\\t\\t{ \\r\\n\\t\\t\\t\\tdocument.slideform.eco[i].checked=true;\\r\\n\\t\\t\\t} \\r\\n\\t} \\r\\n} \\r\\n\\r\\n\\r\\nfunction set_speed(name)\\r\\n{ \\r\\n\\tvar num=document.slideform.speed.length;\\r\\n\\tfor (i=0;i<num;i++)\\r\\n\\t{ \\r\\n\\t\\t\\tif (document.slideform.speed[i].value==name)\\r\\n\\t\\t\\t{ \\r\\n\\t\\t\\t\\tdocument.slideform.speed[i].checked=true;\\r\\n\\t\\t\\t} \\r\\n\\t} \\r\\n} \\r\\n\\r\\nfunction set_go(a,b)\\r\\n{ \\r\\n\\tvar go= document.slideform.slide[0].text;\\r\\n\\tvar m=document.slideform.slide.length-1;\\r\\n\\t//alert(\"go=\"+a+\"/to=\"+b+\"/\"+m);\\r\\n\\tvar to= document.slideform.slide[m].text;\\r\\n\\t//\\talert(to);\\r\\n\\tvar gostr=go.substring(2,17); \\r\\n\\tvar tostr=to.substring(2,17); \\r\\n\\r\\n\\tfor (i=0;i<document.slideform.slide1.length;i++)\\r\\n\\t{\\r\\n\\t\\tif (document.slideform.slide1[i].text==gostr)\\r\\n\\t\\t{\\r\\n\\t\\t\\tdocument.slideform.slide1[i].selected=true;\\r\\n\\t\\t\\tbreak;\\r\\n\\t\\t}\\r\\n\\t}\\r\\n\\tfor (i=0;i<document.slideform.slide2.length;i++)\\r\\n\\t{\\r\\n\\t\\tif (document.slideform.slide2[i].text==tostr)\\r\\n\\t\\t{\\r\\n\\t\\t\\tdocument.slideform.slide2[i].selected=true;\\r\\n\\t\\t\\tbreak;\\r\\n\\t\\t}\\r\\n\\t}\\r\\n\\r\\n\\r\\n} \\t\\r\\n\\t\\r\\n$rel=setInterval(\\'pagereload()\\',600000);\\r\\nfunction pagereload()\\r\\n{\\r\\n  $slide=$(\"#slide option:selected\").html();\\r\\n  $slide2=$(\"#slide2 option:selected\").html();\\r\\n  if ($slide.indexOf($slide2)!=(-1))\\r\\n {\\r\\n         URL=window.location.href;\\r\\n\\t\\t if(URL.indexOf(\\'&\\')!=-1)\\r\\n\\t\\t{\\r\\n\\t\\t \\tURL=URL.substring(0,URL.indexOf(\\'&\\'));\\r\\n\\t\\t} \\r\\n\\t\\t window.location.href=URL;\\r\\n  } \\r\\n} \\r\\n\\r\\n$(\"#newest\").click(function()\\r\\n {\\r\\n       URL=window.location.href;\\r\\n\\t\\t if(URL.indexOf(\\'&\\')!=-1)\\r\\n\\t\\t {\\r\\n\\t\\t \\tURL=URL.substring(0,URL.indexOf(\\'&\\'));\\r\\n\\t\\t} \\r\\n\\t\\t window.location.href=URL;\\r\\n} );\\r\\n\\r\\n</script>\\r\\n<!-- START WRating v1.0 -->\\r\\n<script type=\"text/javascript\" src=\"http://c.wrating.com/a1.js\">\\r\\n</script>\\r\\n<script type=\"text/javascript\">\\r\\nvar vjAcc=\"860010-2099130100\";\\r\\nvar wrUrl=\"http://c.wrating.com/\";\\r\\nvjTrack(\"\");\\r\\n</script>\\r\\n<noscript><img src=\"http://c.wrating.com/a.gif?a=&c=860010-2099130100\" width=\"1\" height=\"1\"/></noscript>\\r\\n<!-- END WRating v1.0 -->\\r\\n<!--<script language=javascript>ap(\\'aaa\\');</script>-->\\r\\n<script language=javascript>set_eco(\\'JC_YT_DL_WXZXCSYT\\');</script>\\r\\n<script language=javascript>set_speed(\\'c\\');</script>\\r\\n<script language=javascript>set_go(\\'\\',\\'\\');</script>\\r\\n<script language=javascript>set_v(\\'0\\');</script>\\r\\n<script language=javascript>set_v1(\\'0\\');</script>\\r\\n<!--页尾start-->\\r\\n<div class=\"footer\">\\r\\n  <div class=\"block\">\\r\\n    <div class=\"Lcontent\">\\r\\n      <dl style=\"width:240px;margin-left: 50px; margin-right:22px;\">\\r\\n        <dt>\\r\\n          <h3><a>网站服务</a></h3>\\r\\n        </dt>\\r\\n        <dd>\\r\\n          <p><a href=\"http://www.weather.com.cn/wzfw/gywm/\">关于我们</a><a href=\"http://www.weather.com.cn/wzfw/gywm/\">联系我们</a><a href=\"http://www.weather.com.cn/wzfw/sybz/\">帮助</a><a href=\"http://www.weather.com.cn/wzfw/ryzp/\">人员招聘</a></p>\\r\\n          <p><a href=\"http://www.weather.com.cn/wzfw/kfzx/\">客服中心</a><a href=\"http://www.weather.com.cn/wzfw/bqsm/\">版权声明</a><a href=\"http://www.weather.com.cn/wzfw/wzls/\">律师</a><a href=\"http://www.weather.com.cn/wzfw/wzdt/\">网站地图</a></p>\\r\\n        </dd>\\r\\n      </dl>\\r\\n      <dl style=\"width:201px;\">\\r\\n        <dt>\\r\\n          <h3><a>营销中心</a></h3>\\r\\n        </dt>\\r\\n        <dd>\\r\\n          <p><a href=\"http://marketing.weather.com.cn/\">企业服务</a><a href=\"http://marketing.weather.com.cn/zyqxfw/\">专业服务</a><a href=\"http://cj.weather.com.cn/\">天气插件</a></p>\\r\\n          <p><a href=\"http://marketing.weather.com.cn/wxzdhz/\">无线合作</a><a href=\"http://marketing.weather.com.cn/wzhz/\">网站合作</a></p>\\r\\n        </dd>\\r\\n      </dl>\\r\\n      <div class=\"clear\"></div>\\r\\n    </div>\\r\\n    <div class=\"friendLink\">\\r\\n      <h3><a>相关链接</a></h3>\\r\\n      <p><a href=\"http://typhoon.weather.com.cn/\" target=\"_blank\">中国天气台风网</a><a href=\"http://www.weathertv.cn/\" target=\"_blank\">中国气象视频网</a><a href=\"http://www.tourweather.com.cn/\" target=\"_blank\">中国旅游天气网</a></p>\\r\\n      <p><a href=\"http://search.weather.com.cn/static/xxfb/\" target=\"_blank\">气象资讯与预警共享平台</a><a href=\"http://cwera.weather.com.cn/\" target=\"_blank\">风能太阳能资源中心</a><a href=\"http://www.xn121.com/\" target=\"_blank\">中国兴农网</a></p>\\r\\n      <p><a href=\"http://www.cma.gov.cn/\" target=\"_blank\">中国气象局</a><a href=\"http://pmsc.cma.gov.cn/\" target=\"_blank\">中国气象局公共气象服务中心</a></p>\\r\\n    </div>\\r\\n    <div class=\"serviceinfo\">\\r\\n      <p><span>客服邮箱：<a href=\"mailto:service@weather.com.cn\">service@weather.com.cn</a></span><span>客户服务热线：<b>400-6000-121</b></span><span>京公网安备11041400134号</span></p>\\r\\n      <p><span>广告服务：<b>010-58991910</b></span><span><a href=\"http://www.miibeian.gov.cn/\" target=\"_blank\">京ICP证010385号</a></span><span>增值电信业务经营许可证B2-20050053</span></p>\\r\\n    </div>\\r\\n    <div class=\"clear\"></div>\\r\\n  </div>\\r\\n  <div class=\"aboutUs\"> Copyright&copy;<a href=\"http://pmsc.cma.gov.cn/\" target=\"_blank\">中国气象局公共气象服务中心</a> All Rights Reserved (2008-2015) 版权所有 复制必究 郑重声明：中国天气网版权所有，未经书面授权禁止使用 </div>\\r\\n</div>\\r\\n<!--页尾end-->\\r\\n<!--顶部省级end-->\\r\\n<div class=\"provinceLinks\">\\r\\n  <div class=\"midBlock\">\\r\\n    <dl>\\r\\n      <dt><a href=\"http://www.weather.com.cn/textFC/hb.shtml\" target=\"_blank\">华北地区</a></dt>\\r\\n      <dd>\\r\\n        <p><a href=\"http://bj.weather.com.cn\" target=\"_blank\">北京</a><a href=\"http://tj.weather.com.cn\" target=\"_blank\">天津</a><a href=\"http://hebei.weather.com.cn\" target=\"_blank\">河北</a></p>\\r\\n        <p><a href=\"http://shanxi.weather.com.cn\" target=\"_blank\">山西</a><a href=\"http://nmg.weather.com.cn\" target=\"_blank\">内蒙古</a></p>\\r\\n      </dd>\\r\\n    </dl>\\r\\n    <dl>\\r\\n      <dt><a href=\"http://www.weather.com.cn/textFC/hd.shtml\" target=\"_blank\">华东地区</a></dt>\\r\\n      <dd>\\r\\n        <p><a href=\"http://sh.weather.com.cn\" target=\"_blank\">上海</a><a href=\"http://js.weather.com.cn\" target=\"_blank\">江苏</a><a href=\"http://zj.weather.com.cn\" target=\"_blank\">浙江</a></p>\\r\\n        <p><a href=\"http://ah.weather.com.cn\" target=\"_blank\">安徽</a><a href=\"http://fj.weather.com.cn\" target=\"_blank\">福建</a><a href=\"http://sd.weather.com.cn\" target=\"_blank\">山东</a></p>\\r\\n      </dd>\\r\\n    </dl>\\r\\n    <dl>\\r\\n      <dt><a href=\"http://www.weather.com.cn/textFC/hz.shtml\" target=\"_blank\">华中地区</a></dt>\\r\\n      <dd>\\r\\n        <p><a href=\"http://hubei.weather.com.cn\" target=\"_blank\">湖北</a><a href=\"http://hunan.weather.com.cn\" target=\"_blank\">湖南</a></p>\\r\\n        <p><a href=\"http://henan.weather.com.cn\" target=\"_blank\">河南</a><a href=\"http://jx.weather.com.cn\" target=\"_blank\">江西</a></p>\\r\\n      </dd>\\r\\n    </dl>\\r\\n    <dl>\\r\\n      <dt><a href=\"http://www.weather.com.cn/textFC/hn.shtml\" target=\"_blank\">华南地区</a></dt>\\r\\n      <dd>\\r\\n        <p><a href=\"http://gd.weather.com.cn\" target=\"_blank\">广东</a><a href=\"http://gx.weather.com.cn\" target=\"_blank\">广西</a></p>\\r\\n        <p><a href=\"http://hainan.weather.com.cn\" target=\"_blank\">海南</a></p>\\r\\n      </dd>\\r\\n    </dl>\\r\\n    <div class=\"line\"></div>\\r\\n    <dl>\\r\\n      <dt><a href=\"http://www.weather.com.cn/textFC/xb.shtml\" target=\"_blank\">西北地区</a></dt>\\r\\n      <dd>\\r\\n        <p><a href=\"http://shaanxi.weather.com.cn\" target=\"_blank\">陕西</a><a href=\"http://gs.weather.com.cn\" target=\"_blank\">甘肃</a><a href=\"http://qh.weather.com.cn\" target=\"_blank\">青海</a></p>\\r\\n        <p><a href=\"http://nx.weather.com.cn\" target=\"_blank\">宁夏</a><a href=\"http://xj.weather.com.cn\" target=\"_blank\">新疆</a></p>\\r\\n      </dd>\\r\\n    </dl>\\r\\n    <dl>\\r\\n      <dt><a href=\"http://www.weather.com.cn/textFC/xn.shtml\" target=\"_blank\">西南地区</a></dt>\\r\\n      <dd>\\r\\n        <p><a href=\"http://cq.weather.com.cn\" target=\"_blank\">重庆</a><a href=\"http://sc.weather.com.cn\" target=\"_blank\">四川</a><a href=\"http://yn.weather.com.cn\" target=\"_blank\">云南</a></p>\\r\\n        <p><a href=\"http://gz.weather.com.cn\" target=\"_blank\">贵州</a><a href=\"http://xz.weather.com.cn\" target=\"_blank\">西藏</a></p>\\r\\n      </dd>\\r\\n    </dl>\\r\\n    <dl>\\r\\n      <dt><a href=\"http://www.weather.com.cn/textFC/db.shtml\" target=\"_blank\">东北地区</a></dt>\\r\\n      <dd>\\r\\n        <p><a href=\"http://ln.weather.com.cn\" target=\"_blank\">辽宁</a><a href=\"http://jl.weather.com.cn\" target=\"_blank\">吉林</a></p>\\r\\n        <p><a href=\"http://hlj.weather.com.cn\" target=\"_blank\">黑龙江</a></p>\\r\\n      </dd>\\r\\n    </dl>\\r\\n    <dl>\\r\\n      <dt class=\"last\"><a href=\"http://www.weather.com.cn/textFC/gat.shtml\" target=\"_blank\">港澳台地区</a></dt>\\r\\n      <dd>\\r\\n        <p><a href=\"http://www.weather.com.cn/html/province/xianggang.shtml\" target=\"_blank\">香港</a><a href=\"http://mo.weather.com.cn\" target=\"_blank\">澳门</a></p>\\r\\n        <p><a href=\"http://www.weather.com.cn/html/province/taiwan.shtml\" target=\"_blank\">台湾</a></p>\\r\\n      </dd>\\r\\n    </dl>\\r\\n  </div>\\r\\n</div>\\r\\n<!--顶部省级end-->\\r\\n<script type=\"text/javascript\">var _bdhmProtocol = ((\"https:\" == document.location.protocol) ? \" https://\" : \" http://\");document.write(unescape(\"%3Cscript src=\\'\" + _bdhmProtocol + \"hm.baidu.com/h.js%3F080dabacb001ad3dc8b9b9049b36d43b\\' type=\\'text/javascript\\'%3E%3C/script%3E\"));</script>\\r\\n<script type=\"text/javascript\" src=\"http://js.tongji.linezing.com/3496259/tongji.js\"></script>\\r\\n\\r\\n<!-- Start Alexa Certify Javascript -->\\r\\n<script type=\"text/javascript\">\\r\\n_atrk_opts = { atrk_acct:\"AMd6l1aoHvD06C\", domain:\"weather.com.cn\",dynamic: true};\\r\\n(function() { var as = document.createElement(\\'script\\'); as.type = \\'text/javascript\\'; as.async = true; as.src = \"https://d31qbv1cthcecs.cloudfront.net/atrk.js\"; var s = document.getElementsByTagName(\\'script\\')[0];s.parentNode.insertBefore(as, s); })();\\r\\n</script>\\r\\n<noscript><img src=\"https://d5nxst8fruw4z.cloudfront.net/atrk.gif?account=AMd6l1aoHvD06C\" style=\"display:none\" height=\"1\" width=\"1\" alt=\"\" /></noscript>\\r\\n<!-- End Alexa Certify Javascript --> \\r\\n<!-- START WRating v1.0 -->\\r\\n<script type=\"text/javascript\" src=\"http://c.wrating.com/a1.js\">\\r\\n</script>\\r\\n<script type=\"text/javascript\">\\r\\nvar vjAcc=\"860010-1905010101\";\\r\\nvar wrUrl=\"http://c.wrating.com/\";\\r\\nvjTrack(\"\");\\r\\n</script>\\r\\n<noscript><img src=\"http://c.wrating.com/a.gif?a=&c=860010-1905010101\" width=\"1\" height=\"1\"/></noscript>\\r\\n<!-- END WRating v1.0 -->\\r\\n\\r\\n</body>\\r\\n\\r\\n</html>'"
      ]
     },
     "execution_count": 8,
     "metadata": {},
     "output_type": "execute_result"
    }
   ],
   "source": [
    "r.text"
   ]
  },
  {
   "cell_type": "code",
   "execution_count": 15,
   "metadata": {},
   "outputs": [],
   "source": [
    "urlre = re.compile(r'\\bhttp://pi.weather.com.cn/i/product/pic/m/sevp_nsmc_wxcl_asc_e99_achn_lno_py_\\d{17}.jpg\\b')\n",
    "urllist =  sorted({x.replace('/m/', '/l/') for x in urlre.findall(r.text)})"
   ]
  },
  {
   "cell_type": "code",
   "execution_count": 16,
   "metadata": {},
   "outputs": [
    {
     "data": {
      "text/plain": [
       "re.compile(r'\\bhttp://pi.weather.com.cn/i/product/pic/m/sevp_nsmc_wxcl_asc_e99_achn_lno_py_\\d{17}.jpg\\b',\n",
       "re.UNICODE)"
      ]
     },
     "execution_count": 16,
     "metadata": {},
     "output_type": "execute_result"
    }
   ],
   "source": [
    "urlre"
   ]
  },
  {
   "cell_type": "code",
   "execution_count": 17,
   "metadata": {},
   "outputs": [
    {
     "data": {
      "text/plain": [
       "['http://pi.weather.com.cn/i/product/pic/l/sevp_nsmc_wxcl_asc_e99_achn_lno_py_20180724054500000.jpg',\n",
       " 'http://pi.weather.com.cn/i/product/pic/l/sevp_nsmc_wxcl_asc_e99_achn_lno_py_20180724061500000.jpg',\n",
       " 'http://pi.weather.com.cn/i/product/pic/l/sevp_nsmc_wxcl_asc_e99_achn_lno_py_20180724064500000.jpg',\n",
       " 'http://pi.weather.com.cn/i/product/pic/l/sevp_nsmc_wxcl_asc_e99_achn_lno_py_20180724071500000.jpg',\n",
       " 'http://pi.weather.com.cn/i/product/pic/l/sevp_nsmc_wxcl_asc_e99_achn_lno_py_20180724074500000.jpg',\n",
       " 'http://pi.weather.com.cn/i/product/pic/l/sevp_nsmc_wxcl_asc_e99_achn_lno_py_20180724081500000.jpg',\n",
       " 'http://pi.weather.com.cn/i/product/pic/l/sevp_nsmc_wxcl_asc_e99_achn_lno_py_20180724084500000.jpg',\n",
       " 'http://pi.weather.com.cn/i/product/pic/l/sevp_nsmc_wxcl_asc_e99_achn_lno_py_20180724091500000.jpg',\n",
       " 'http://pi.weather.com.cn/i/product/pic/l/sevp_nsmc_wxcl_asc_e99_achn_lno_py_20180724094500000.jpg',\n",
       " 'http://pi.weather.com.cn/i/product/pic/l/sevp_nsmc_wxcl_asc_e99_achn_lno_py_20180724101500000.jpg',\n",
       " 'http://pi.weather.com.cn/i/product/pic/l/sevp_nsmc_wxcl_asc_e99_achn_lno_py_20180724104500000.jpg',\n",
       " 'http://pi.weather.com.cn/i/product/pic/l/sevp_nsmc_wxcl_asc_e99_achn_lno_py_20180724111500000.jpg',\n",
       " 'http://pi.weather.com.cn/i/product/pic/l/sevp_nsmc_wxcl_asc_e99_achn_lno_py_20180724114500000.jpg',\n",
       " 'http://pi.weather.com.cn/i/product/pic/l/sevp_nsmc_wxcl_asc_e99_achn_lno_py_20180724121500000.jpg',\n",
       " 'http://pi.weather.com.cn/i/product/pic/l/sevp_nsmc_wxcl_asc_e99_achn_lno_py_20180724124500000.jpg',\n",
       " 'http://pi.weather.com.cn/i/product/pic/l/sevp_nsmc_wxcl_asc_e99_achn_lno_py_20180724131500000.jpg',\n",
       " 'http://pi.weather.com.cn/i/product/pic/l/sevp_nsmc_wxcl_asc_e99_achn_lno_py_20180724134500000.jpg',\n",
       " 'http://pi.weather.com.cn/i/product/pic/l/sevp_nsmc_wxcl_asc_e99_achn_lno_py_20180724141500000.jpg',\n",
       " 'http://pi.weather.com.cn/i/product/pic/l/sevp_nsmc_wxcl_asc_e99_achn_lno_py_20180724144500000.jpg',\n",
       " 'http://pi.weather.com.cn/i/product/pic/l/sevp_nsmc_wxcl_asc_e99_achn_lno_py_20180724151500000.jpg',\n",
       " 'http://pi.weather.com.cn/i/product/pic/l/sevp_nsmc_wxcl_asc_e99_achn_lno_py_20180724154500000.jpg',\n",
       " 'http://pi.weather.com.cn/i/product/pic/l/sevp_nsmc_wxcl_asc_e99_achn_lno_py_20180724161500000.jpg',\n",
       " 'http://pi.weather.com.cn/i/product/pic/l/sevp_nsmc_wxcl_asc_e99_achn_lno_py_20180724164500000.jpg',\n",
       " 'http://pi.weather.com.cn/i/product/pic/l/sevp_nsmc_wxcl_asc_e99_achn_lno_py_20180724171500000.jpg',\n",
       " 'http://pi.weather.com.cn/i/product/pic/l/sevp_nsmc_wxcl_asc_e99_achn_lno_py_20180724174500000.jpg',\n",
       " 'http://pi.weather.com.cn/i/product/pic/l/sevp_nsmc_wxcl_asc_e99_achn_lno_py_20180724181500000.jpg',\n",
       " 'http://pi.weather.com.cn/i/product/pic/l/sevp_nsmc_wxcl_asc_e99_achn_lno_py_20180724184500000.jpg',\n",
       " 'http://pi.weather.com.cn/i/product/pic/l/sevp_nsmc_wxcl_asc_e99_achn_lno_py_20180724191500000.jpg',\n",
       " 'http://pi.weather.com.cn/i/product/pic/l/sevp_nsmc_wxcl_asc_e99_achn_lno_py_20180724194500000.jpg',\n",
       " 'http://pi.weather.com.cn/i/product/pic/l/sevp_nsmc_wxcl_asc_e99_achn_lno_py_20180724201500000.jpg',\n",
       " 'http://pi.weather.com.cn/i/product/pic/l/sevp_nsmc_wxcl_asc_e99_achn_lno_py_20180724211500000.jpg',\n",
       " 'http://pi.weather.com.cn/i/product/pic/l/sevp_nsmc_wxcl_asc_e99_achn_lno_py_20180724214500000.jpg',\n",
       " 'http://pi.weather.com.cn/i/product/pic/l/sevp_nsmc_wxcl_asc_e99_achn_lno_py_20180724221500000.jpg',\n",
       " 'http://pi.weather.com.cn/i/product/pic/l/sevp_nsmc_wxcl_asc_e99_achn_lno_py_20180724224500000.jpg',\n",
       " 'http://pi.weather.com.cn/i/product/pic/l/sevp_nsmc_wxcl_asc_e99_achn_lno_py_20180724231500000.jpg',\n",
       " 'http://pi.weather.com.cn/i/product/pic/l/sevp_nsmc_wxcl_asc_e99_achn_lno_py_20180724234500000.jpg',\n",
       " 'http://pi.weather.com.cn/i/product/pic/l/sevp_nsmc_wxcl_asc_e99_achn_lno_py_20180725001500000.jpg',\n",
       " 'http://pi.weather.com.cn/i/product/pic/l/sevp_nsmc_wxcl_asc_e99_achn_lno_py_20180725004500000.jpg',\n",
       " 'http://pi.weather.com.cn/i/product/pic/l/sevp_nsmc_wxcl_asc_e99_achn_lno_py_20180725011500000.jpg',\n",
       " 'http://pi.weather.com.cn/i/product/pic/l/sevp_nsmc_wxcl_asc_e99_achn_lno_py_20180725024500000.jpg',\n",
       " 'http://pi.weather.com.cn/i/product/pic/l/sevp_nsmc_wxcl_asc_e99_achn_lno_py_20180725031500000.jpg',\n",
       " 'http://pi.weather.com.cn/i/product/pic/l/sevp_nsmc_wxcl_asc_e99_achn_lno_py_20180725034500000.jpg',\n",
       " 'http://pi.weather.com.cn/i/product/pic/l/sevp_nsmc_wxcl_asc_e99_achn_lno_py_20180725041500000.jpg',\n",
       " 'http://pi.weather.com.cn/i/product/pic/l/sevp_nsmc_wxcl_asc_e99_achn_lno_py_20180725044500000.jpg',\n",
       " 'http://pi.weather.com.cn/i/product/pic/l/sevp_nsmc_wxcl_asc_e99_achn_lno_py_20180725051500000.jpg']"
      ]
     },
     "execution_count": 17,
     "metadata": {},
     "output_type": "execute_result"
    }
   ],
   "source": [
    "urllist"
   ]
  },
  {
   "cell_type": "markdown",
   "metadata": {},
   "source": [
    "### 编写为函数。"
   ]
  },
  {
   "cell_type": "code",
   "execution_count": 53,
   "metadata": {},
   "outputs": [],
   "source": [
    "# 获取图像的地址列表。\n",
    "def getPicList():\n",
    "    r = requests.get('http://www.weather.com.cn/static/product_video_v1.php?class=JC_YT_DL_WXZXCSYT')\n",
    "    urlre = re.compile(r'\\bhttp://pi.weather.com.cn/i/product/pic/m/sevp_nsmc_wxcl_asc_e99_achn_lno_py_\\d{17}.jpg\\b')\n",
    "    urllist =  sorted({x.replace('/m/', '/l/') for x in urlre.findall(r.text)})\n",
    "    return urllist\n",
    "\n",
    "# 下载图片文件，返回列表。\n",
    "def downloadPic(pic_dir,pics):\n",
    "  ret = []\n",
    "  for p in pics:\n",
    "    file = os.path.split(p)[1]\n",
    "    file = os.path.join(pic_dir, file)\n",
    "    print(\"==> \",file)\n",
    "    ret.append(file)\n",
    "    if os.path.exists(file):\n",
    "      continue\n",
    "    data = requests.get(p).content\n",
    "    open(file, 'wb').write(data)\n",
    "  print(\"Finished.\")\n",
    "  return ret"
   ]
  },
  {
   "cell_type": "markdown",
   "metadata": {},
   "source": [
    "- 获得图片下载地址列表。"
   ]
  },
  {
   "cell_type": "code",
   "execution_count": 51,
   "metadata": {},
   "outputs": [],
   "source": [
    "urls = getPicList()"
   ]
  },
  {
   "cell_type": "code",
   "execution_count": 49,
   "metadata": {},
   "outputs": [
    {
     "data": {
      "text/plain": [
       "['http://pi.weather.com.cn/i/product/pic/l/sevp_nsmc_wxcl_asc_e99_achn_lno_py_20180724061500000.jpg',\n",
       " 'http://pi.weather.com.cn/i/product/pic/l/sevp_nsmc_wxcl_asc_e99_achn_lno_py_20180724064500000.jpg',\n",
       " 'http://pi.weather.com.cn/i/product/pic/l/sevp_nsmc_wxcl_asc_e99_achn_lno_py_20180724071500000.jpg',\n",
       " 'http://pi.weather.com.cn/i/product/pic/l/sevp_nsmc_wxcl_asc_e99_achn_lno_py_20180724074500000.jpg',\n",
       " 'http://pi.weather.com.cn/i/product/pic/l/sevp_nsmc_wxcl_asc_e99_achn_lno_py_20180724081500000.jpg',\n",
       " 'http://pi.weather.com.cn/i/product/pic/l/sevp_nsmc_wxcl_asc_e99_achn_lno_py_20180724084500000.jpg',\n",
       " 'http://pi.weather.com.cn/i/product/pic/l/sevp_nsmc_wxcl_asc_e99_achn_lno_py_20180724091500000.jpg',\n",
       " 'http://pi.weather.com.cn/i/product/pic/l/sevp_nsmc_wxcl_asc_e99_achn_lno_py_20180724094500000.jpg',\n",
       " 'http://pi.weather.com.cn/i/product/pic/l/sevp_nsmc_wxcl_asc_e99_achn_lno_py_20180724101500000.jpg',\n",
       " 'http://pi.weather.com.cn/i/product/pic/l/sevp_nsmc_wxcl_asc_e99_achn_lno_py_20180724104500000.jpg',\n",
       " 'http://pi.weather.com.cn/i/product/pic/l/sevp_nsmc_wxcl_asc_e99_achn_lno_py_20180724111500000.jpg',\n",
       " 'http://pi.weather.com.cn/i/product/pic/l/sevp_nsmc_wxcl_asc_e99_achn_lno_py_20180724114500000.jpg',\n",
       " 'http://pi.weather.com.cn/i/product/pic/l/sevp_nsmc_wxcl_asc_e99_achn_lno_py_20180724121500000.jpg',\n",
       " 'http://pi.weather.com.cn/i/product/pic/l/sevp_nsmc_wxcl_asc_e99_achn_lno_py_20180724124500000.jpg',\n",
       " 'http://pi.weather.com.cn/i/product/pic/l/sevp_nsmc_wxcl_asc_e99_achn_lno_py_20180724131500000.jpg',\n",
       " 'http://pi.weather.com.cn/i/product/pic/l/sevp_nsmc_wxcl_asc_e99_achn_lno_py_20180724134500000.jpg',\n",
       " 'http://pi.weather.com.cn/i/product/pic/l/sevp_nsmc_wxcl_asc_e99_achn_lno_py_20180724141500000.jpg',\n",
       " 'http://pi.weather.com.cn/i/product/pic/l/sevp_nsmc_wxcl_asc_e99_achn_lno_py_20180724144500000.jpg',\n",
       " 'http://pi.weather.com.cn/i/product/pic/l/sevp_nsmc_wxcl_asc_e99_achn_lno_py_20180724151500000.jpg',\n",
       " 'http://pi.weather.com.cn/i/product/pic/l/sevp_nsmc_wxcl_asc_e99_achn_lno_py_20180724154500000.jpg',\n",
       " 'http://pi.weather.com.cn/i/product/pic/l/sevp_nsmc_wxcl_asc_e99_achn_lno_py_20180724161500000.jpg',\n",
       " 'http://pi.weather.com.cn/i/product/pic/l/sevp_nsmc_wxcl_asc_e99_achn_lno_py_20180724164500000.jpg',\n",
       " 'http://pi.weather.com.cn/i/product/pic/l/sevp_nsmc_wxcl_asc_e99_achn_lno_py_20180724171500000.jpg',\n",
       " 'http://pi.weather.com.cn/i/product/pic/l/sevp_nsmc_wxcl_asc_e99_achn_lno_py_20180724174500000.jpg',\n",
       " 'http://pi.weather.com.cn/i/product/pic/l/sevp_nsmc_wxcl_asc_e99_achn_lno_py_20180724181500000.jpg',\n",
       " 'http://pi.weather.com.cn/i/product/pic/l/sevp_nsmc_wxcl_asc_e99_achn_lno_py_20180724184500000.jpg',\n",
       " 'http://pi.weather.com.cn/i/product/pic/l/sevp_nsmc_wxcl_asc_e99_achn_lno_py_20180724191500000.jpg',\n",
       " 'http://pi.weather.com.cn/i/product/pic/l/sevp_nsmc_wxcl_asc_e99_achn_lno_py_20180724194500000.jpg',\n",
       " 'http://pi.weather.com.cn/i/product/pic/l/sevp_nsmc_wxcl_asc_e99_achn_lno_py_20180724201500000.jpg',\n",
       " 'http://pi.weather.com.cn/i/product/pic/l/sevp_nsmc_wxcl_asc_e99_achn_lno_py_20180724211500000.jpg',\n",
       " 'http://pi.weather.com.cn/i/product/pic/l/sevp_nsmc_wxcl_asc_e99_achn_lno_py_20180724214500000.jpg',\n",
       " 'http://pi.weather.com.cn/i/product/pic/l/sevp_nsmc_wxcl_asc_e99_achn_lno_py_20180724221500000.jpg',\n",
       " 'http://pi.weather.com.cn/i/product/pic/l/sevp_nsmc_wxcl_asc_e99_achn_lno_py_20180724224500000.jpg',\n",
       " 'http://pi.weather.com.cn/i/product/pic/l/sevp_nsmc_wxcl_asc_e99_achn_lno_py_20180724231500000.jpg',\n",
       " 'http://pi.weather.com.cn/i/product/pic/l/sevp_nsmc_wxcl_asc_e99_achn_lno_py_20180724234500000.jpg',\n",
       " 'http://pi.weather.com.cn/i/product/pic/l/sevp_nsmc_wxcl_asc_e99_achn_lno_py_20180725001500000.jpg',\n",
       " 'http://pi.weather.com.cn/i/product/pic/l/sevp_nsmc_wxcl_asc_e99_achn_lno_py_20180725004500000.jpg',\n",
       " 'http://pi.weather.com.cn/i/product/pic/l/sevp_nsmc_wxcl_asc_e99_achn_lno_py_20180725011500000.jpg',\n",
       " 'http://pi.weather.com.cn/i/product/pic/l/sevp_nsmc_wxcl_asc_e99_achn_lno_py_20180725024500000.jpg',\n",
       " 'http://pi.weather.com.cn/i/product/pic/l/sevp_nsmc_wxcl_asc_e99_achn_lno_py_20180725031500000.jpg',\n",
       " 'http://pi.weather.com.cn/i/product/pic/l/sevp_nsmc_wxcl_asc_e99_achn_lno_py_20180725034500000.jpg',\n",
       " 'http://pi.weather.com.cn/i/product/pic/l/sevp_nsmc_wxcl_asc_e99_achn_lno_py_20180725041500000.jpg',\n",
       " 'http://pi.weather.com.cn/i/product/pic/l/sevp_nsmc_wxcl_asc_e99_achn_lno_py_20180725044500000.jpg',\n",
       " 'http://pi.weather.com.cn/i/product/pic/l/sevp_nsmc_wxcl_asc_e99_achn_lno_py_20180725051500000.jpg',\n",
       " 'http://pi.weather.com.cn/i/product/pic/l/sevp_nsmc_wxcl_asc_e99_achn_lno_py_20180725054500000.jpg']"
      ]
     },
     "execution_count": 49,
     "metadata": {},
     "output_type": "execute_result"
    }
   ],
   "source": [
    "urls"
   ]
  },
  {
   "cell_type": "markdown",
   "metadata": {},
   "source": [
    "- 执行图片下载函数, 保存到 \"/home/jovyan/quickstart/cloudmap\"。"
   ]
  },
  {
   "cell_type": "code",
   "execution_count": 52,
   "metadata": {},
   "outputs": [
    {
     "name": "stdout",
     "output_type": "stream",
     "text": [
      "==>  /home/jovyan/quickstart/cloudmap/sevp_nsmc_wxcl_asc_e99_achn_lno_py_20180724061500000.jpg\n",
      "==>  /home/jovyan/quickstart/cloudmap/sevp_nsmc_wxcl_asc_e99_achn_lno_py_20180724064500000.jpg\n",
      "==>  /home/jovyan/quickstart/cloudmap/sevp_nsmc_wxcl_asc_e99_achn_lno_py_20180724071500000.jpg\n",
      "==>  /home/jovyan/quickstart/cloudmap/sevp_nsmc_wxcl_asc_e99_achn_lno_py_20180724074500000.jpg\n",
      "==>  /home/jovyan/quickstart/cloudmap/sevp_nsmc_wxcl_asc_e99_achn_lno_py_20180724081500000.jpg\n",
      "==>  /home/jovyan/quickstart/cloudmap/sevp_nsmc_wxcl_asc_e99_achn_lno_py_20180724084500000.jpg\n",
      "==>  /home/jovyan/quickstart/cloudmap/sevp_nsmc_wxcl_asc_e99_achn_lno_py_20180724091500000.jpg\n",
      "==>  /home/jovyan/quickstart/cloudmap/sevp_nsmc_wxcl_asc_e99_achn_lno_py_20180724094500000.jpg\n",
      "==>  /home/jovyan/quickstart/cloudmap/sevp_nsmc_wxcl_asc_e99_achn_lno_py_20180724101500000.jpg\n",
      "==>  /home/jovyan/quickstart/cloudmap/sevp_nsmc_wxcl_asc_e99_achn_lno_py_20180724104500000.jpg\n",
      "==>  /home/jovyan/quickstart/cloudmap/sevp_nsmc_wxcl_asc_e99_achn_lno_py_20180724111500000.jpg\n",
      "==>  /home/jovyan/quickstart/cloudmap/sevp_nsmc_wxcl_asc_e99_achn_lno_py_20180724114500000.jpg\n",
      "==>  /home/jovyan/quickstart/cloudmap/sevp_nsmc_wxcl_asc_e99_achn_lno_py_20180724121500000.jpg\n",
      "==>  /home/jovyan/quickstart/cloudmap/sevp_nsmc_wxcl_asc_e99_achn_lno_py_20180724124500000.jpg\n",
      "==>  /home/jovyan/quickstart/cloudmap/sevp_nsmc_wxcl_asc_e99_achn_lno_py_20180724131500000.jpg\n",
      "==>  /home/jovyan/quickstart/cloudmap/sevp_nsmc_wxcl_asc_e99_achn_lno_py_20180724134500000.jpg\n",
      "==>  /home/jovyan/quickstart/cloudmap/sevp_nsmc_wxcl_asc_e99_achn_lno_py_20180724141500000.jpg\n",
      "==>  /home/jovyan/quickstart/cloudmap/sevp_nsmc_wxcl_asc_e99_achn_lno_py_20180724144500000.jpg\n",
      "==>  /home/jovyan/quickstart/cloudmap/sevp_nsmc_wxcl_asc_e99_achn_lno_py_20180724151500000.jpg\n",
      "==>  /home/jovyan/quickstart/cloudmap/sevp_nsmc_wxcl_asc_e99_achn_lno_py_20180724154500000.jpg\n",
      "==>  /home/jovyan/quickstart/cloudmap/sevp_nsmc_wxcl_asc_e99_achn_lno_py_20180724161500000.jpg\n",
      "==>  /home/jovyan/quickstart/cloudmap/sevp_nsmc_wxcl_asc_e99_achn_lno_py_20180724164500000.jpg\n",
      "==>  /home/jovyan/quickstart/cloudmap/sevp_nsmc_wxcl_asc_e99_achn_lno_py_20180724171500000.jpg\n",
      "==>  /home/jovyan/quickstart/cloudmap/sevp_nsmc_wxcl_asc_e99_achn_lno_py_20180724174500000.jpg\n",
      "==>  /home/jovyan/quickstart/cloudmap/sevp_nsmc_wxcl_asc_e99_achn_lno_py_20180724181500000.jpg\n",
      "==>  /home/jovyan/quickstart/cloudmap/sevp_nsmc_wxcl_asc_e99_achn_lno_py_20180724184500000.jpg\n",
      "==>  /home/jovyan/quickstart/cloudmap/sevp_nsmc_wxcl_asc_e99_achn_lno_py_20180724191500000.jpg\n",
      "==>  /home/jovyan/quickstart/cloudmap/sevp_nsmc_wxcl_asc_e99_achn_lno_py_20180724194500000.jpg\n",
      "==>  /home/jovyan/quickstart/cloudmap/sevp_nsmc_wxcl_asc_e99_achn_lno_py_20180724201500000.jpg\n",
      "==>  /home/jovyan/quickstart/cloudmap/sevp_nsmc_wxcl_asc_e99_achn_lno_py_20180724211500000.jpg\n",
      "==>  /home/jovyan/quickstart/cloudmap/sevp_nsmc_wxcl_asc_e99_achn_lno_py_20180724214500000.jpg\n",
      "==>  /home/jovyan/quickstart/cloudmap/sevp_nsmc_wxcl_asc_e99_achn_lno_py_20180724221500000.jpg\n",
      "==>  /home/jovyan/quickstart/cloudmap/sevp_nsmc_wxcl_asc_e99_achn_lno_py_20180724224500000.jpg\n",
      "==>  /home/jovyan/quickstart/cloudmap/sevp_nsmc_wxcl_asc_e99_achn_lno_py_20180724231500000.jpg\n",
      "==>  /home/jovyan/quickstart/cloudmap/sevp_nsmc_wxcl_asc_e99_achn_lno_py_20180724234500000.jpg\n",
      "==>  /home/jovyan/quickstart/cloudmap/sevp_nsmc_wxcl_asc_e99_achn_lno_py_20180725001500000.jpg\n",
      "==>  /home/jovyan/quickstart/cloudmap/sevp_nsmc_wxcl_asc_e99_achn_lno_py_20180725004500000.jpg\n",
      "==>  /home/jovyan/quickstart/cloudmap/sevp_nsmc_wxcl_asc_e99_achn_lno_py_20180725011500000.jpg\n",
      "==>  /home/jovyan/quickstart/cloudmap/sevp_nsmc_wxcl_asc_e99_achn_lno_py_20180725024500000.jpg\n",
      "==>  /home/jovyan/quickstart/cloudmap/sevp_nsmc_wxcl_asc_e99_achn_lno_py_20180725031500000.jpg\n",
      "==>  /home/jovyan/quickstart/cloudmap/sevp_nsmc_wxcl_asc_e99_achn_lno_py_20180725034500000.jpg\n",
      "==>  /home/jovyan/quickstart/cloudmap/sevp_nsmc_wxcl_asc_e99_achn_lno_py_20180725041500000.jpg\n",
      "==>  /home/jovyan/quickstart/cloudmap/sevp_nsmc_wxcl_asc_e99_achn_lno_py_20180725044500000.jpg\n",
      "==>  /home/jovyan/quickstart/cloudmap/sevp_nsmc_wxcl_asc_e99_achn_lno_py_20180725051500000.jpg\n",
      "==>  /home/jovyan/quickstart/cloudmap/sevp_nsmc_wxcl_asc_e99_achn_lno_py_20180725054500000.jpg\n"
     ]
    }
   ],
   "source": [
    "import os\n",
    "rets = downloadPic(\"/home/jovyan/quickstart/cloudmap\",urls)"
   ]
  },
  {
   "cell_type": "code",
   "execution_count": 43,
   "metadata": {},
   "outputs": [
    {
     "name": "stdout",
     "output_type": "stream",
     "text": [
      "['/home/jovyan/quickstart/cloudmap/sevp_nsmc_wxcl_asc_e99_achn_lno_py_20180724054500000.jpg', '/home/jovyan/quickstart/cloudmap/sevp_nsmc_wxcl_asc_e99_achn_lno_py_20180724061500000.jpg', '/home/jovyan/quickstart/cloudmap/sevp_nsmc_wxcl_asc_e99_achn_lno_py_20180724064500000.jpg', '/home/jovyan/quickstart/cloudmap/sevp_nsmc_wxcl_asc_e99_achn_lno_py_20180724071500000.jpg', '/home/jovyan/quickstart/cloudmap/sevp_nsmc_wxcl_asc_e99_achn_lno_py_20180724074500000.jpg', '/home/jovyan/quickstart/cloudmap/sevp_nsmc_wxcl_asc_e99_achn_lno_py_20180724081500000.jpg', '/home/jovyan/quickstart/cloudmap/sevp_nsmc_wxcl_asc_e99_achn_lno_py_20180724084500000.jpg', '/home/jovyan/quickstart/cloudmap/sevp_nsmc_wxcl_asc_e99_achn_lno_py_20180724091500000.jpg', '/home/jovyan/quickstart/cloudmap/sevp_nsmc_wxcl_asc_e99_achn_lno_py_20180724094500000.jpg', '/home/jovyan/quickstart/cloudmap/sevp_nsmc_wxcl_asc_e99_achn_lno_py_20180724101500000.jpg', '/home/jovyan/quickstart/cloudmap/sevp_nsmc_wxcl_asc_e99_achn_lno_py_20180724104500000.jpg', '/home/jovyan/quickstart/cloudmap/sevp_nsmc_wxcl_asc_e99_achn_lno_py_20180724111500000.jpg', '/home/jovyan/quickstart/cloudmap/sevp_nsmc_wxcl_asc_e99_achn_lno_py_20180724114500000.jpg', '/home/jovyan/quickstart/cloudmap/sevp_nsmc_wxcl_asc_e99_achn_lno_py_20180724121500000.jpg', '/home/jovyan/quickstart/cloudmap/sevp_nsmc_wxcl_asc_e99_achn_lno_py_20180724124500000.jpg', '/home/jovyan/quickstart/cloudmap/sevp_nsmc_wxcl_asc_e99_achn_lno_py_20180724131500000.jpg', '/home/jovyan/quickstart/cloudmap/sevp_nsmc_wxcl_asc_e99_achn_lno_py_20180724134500000.jpg', '/home/jovyan/quickstart/cloudmap/sevp_nsmc_wxcl_asc_e99_achn_lno_py_20180724141500000.jpg', '/home/jovyan/quickstart/cloudmap/sevp_nsmc_wxcl_asc_e99_achn_lno_py_20180724144500000.jpg', '/home/jovyan/quickstart/cloudmap/sevp_nsmc_wxcl_asc_e99_achn_lno_py_20180724151500000.jpg', '/home/jovyan/quickstart/cloudmap/sevp_nsmc_wxcl_asc_e99_achn_lno_py_20180724154500000.jpg', '/home/jovyan/quickstart/cloudmap/sevp_nsmc_wxcl_asc_e99_achn_lno_py_20180724161500000.jpg', '/home/jovyan/quickstart/cloudmap/sevp_nsmc_wxcl_asc_e99_achn_lno_py_20180724164500000.jpg', '/home/jovyan/quickstart/cloudmap/sevp_nsmc_wxcl_asc_e99_achn_lno_py_20180724171500000.jpg', '/home/jovyan/quickstart/cloudmap/sevp_nsmc_wxcl_asc_e99_achn_lno_py_20180724174500000.jpg', '/home/jovyan/quickstart/cloudmap/sevp_nsmc_wxcl_asc_e99_achn_lno_py_20180724181500000.jpg', '/home/jovyan/quickstart/cloudmap/sevp_nsmc_wxcl_asc_e99_achn_lno_py_20180724184500000.jpg', '/home/jovyan/quickstart/cloudmap/sevp_nsmc_wxcl_asc_e99_achn_lno_py_20180724191500000.jpg', '/home/jovyan/quickstart/cloudmap/sevp_nsmc_wxcl_asc_e99_achn_lno_py_20180724194500000.jpg', '/home/jovyan/quickstart/cloudmap/sevp_nsmc_wxcl_asc_e99_achn_lno_py_20180724201500000.jpg', '/home/jovyan/quickstart/cloudmap/sevp_nsmc_wxcl_asc_e99_achn_lno_py_20180724211500000.jpg', '/home/jovyan/quickstart/cloudmap/sevp_nsmc_wxcl_asc_e99_achn_lno_py_20180724214500000.jpg', '/home/jovyan/quickstart/cloudmap/sevp_nsmc_wxcl_asc_e99_achn_lno_py_20180724221500000.jpg', '/home/jovyan/quickstart/cloudmap/sevp_nsmc_wxcl_asc_e99_achn_lno_py_20180724224500000.jpg', '/home/jovyan/quickstart/cloudmap/sevp_nsmc_wxcl_asc_e99_achn_lno_py_20180724231500000.jpg', '/home/jovyan/quickstart/cloudmap/sevp_nsmc_wxcl_asc_e99_achn_lno_py_20180724234500000.jpg', '/home/jovyan/quickstart/cloudmap/sevp_nsmc_wxcl_asc_e99_achn_lno_py_20180725001500000.jpg', '/home/jovyan/quickstart/cloudmap/sevp_nsmc_wxcl_asc_e99_achn_lno_py_20180725004500000.jpg', '/home/jovyan/quickstart/cloudmap/sevp_nsmc_wxcl_asc_e99_achn_lno_py_20180725011500000.jpg', '/home/jovyan/quickstart/cloudmap/sevp_nsmc_wxcl_asc_e99_achn_lno_py_20180725024500000.jpg', '/home/jovyan/quickstart/cloudmap/sevp_nsmc_wxcl_asc_e99_achn_lno_py_20180725031500000.jpg', '/home/jovyan/quickstart/cloudmap/sevp_nsmc_wxcl_asc_e99_achn_lno_py_20180725034500000.jpg', '/home/jovyan/quickstart/cloudmap/sevp_nsmc_wxcl_asc_e99_achn_lno_py_20180725041500000.jpg', '/home/jovyan/quickstart/cloudmap/sevp_nsmc_wxcl_asc_e99_achn_lno_py_20180725044500000.jpg', '/home/jovyan/quickstart/cloudmap/sevp_nsmc_wxcl_asc_e99_achn_lno_py_20180725051500000.jpg']\n"
     ]
    }
   ],
   "source": [
    "print(rets)"
   ]
  },
  {
   "cell_type": "code",
   "execution_count": 54,
   "metadata": {},
   "outputs": [],
   "source": [
    "# 清除文件\n",
    "!rm /home/jovyan/quickstart/cloudmap/*.*"
   ]
  },
  {
   "cell_type": "code",
   "execution_count": null,
   "metadata": {},
   "outputs": [],
   "source": []
  }
 ],
 "metadata": {
  "kernelspec": {
   "display_name": "Python 3",
   "language": "python",
   "name": "python3"
  },
  "language_info": {
   "codemirror_mode": {
    "name": "ipython",
    "version": 3
   },
   "file_extension": ".py",
   "mimetype": "text/x-python",
   "name": "python",
   "nbconvert_exporter": "python",
   "pygments_lexer": "ipython3",
   "version": "3.6.5"
  }
 },
 "nbformat": 4,
 "nbformat_minor": 2
}
