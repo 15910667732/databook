{
 "cells": [
  {
   "cell_type": "markdown",
   "metadata": {},
   "source": [
    "# Databook\n",
    "\n",
    "[![Documentation](http://readthedocs.org/projects/ipyleaflet/badge/?version=latest)](https://github.com/openthings)\n",
    "[![Binder](https://img.shields.io/badge/launch-binder-brightgreen.svg)](https://mybinder.org/v2/gh/openthings/databook/master)\n",
    "\n",
    "This is Notebooks for Data Analysis, by [openthings](https://my.oschina.net/u/2306127), https://github.com/openthings/ .\n",
    "\n",
    "## Usage\n",
    "\n",
    "- Create a [github.com](https://www.github.com) account.\n",
    "- Fork [this repository](https://github.com/openthings/databook)，click Fork.\n",
    "- Open https://mybinder.org , build your work-site from your github repository.\n",
    "- Add your notebook, and run\\modify.\n",
    "- commit your update to your github repository, by run commit.sh.\n",
    "- Pull update from https://github.com/openthings/databook, using upstream-pull.sh.\n",
    "- Submit a pull-request, to combine your notebook to upstream, from github webUI.\n",
    "\n",
    "## Tutorial\n",
    "\n",
    "- [QuickStart](quickstart)，QuickStart tutorial, just try it.\n",
    "  - [Markdown](quickstart/markdown.ipynb)，Markdown format tutorial。\n",
    "  - [pybasic01](quickstart/pybasic01.ipynb)，first python notebook。\n",
    "\n",
    "## Libarary\n",
    "\n",
    "- [jupyter](https://jupyter.org), include notebook, jupyterhub, jupyterlab webUI.\n",
    "- [conda](https://www.anaconda.com), a powerfull data-tools based python, or [miniconda](https://conda.io/miniconda.html)(much smaller, only essential packages).\n",
    "- [mlflow](https://mlflow.org/)，for machine learning using mlflow, which developed by databricks.\n",
    "- [airflow](https://airflow.incubator.apache.org/), for data pipline using airflow, which developed by Apache Software Foundation.\n",
    "- [tushare](http://tushare.org), a finacial live data sdk, using python api.\n",
    "- [matplotlib](https://matplotlib.org/), a graphic plot lib, for jupyter notebook using %matplotlib inline.\n",
    "- [ipyleaflet](https://github.com/jupyter-widgets/ipyleaflet) , a map tools,include jupyterlab extension, a components of [jupyter-widgets](https://github.com/jupyter-widgets).\n",
    "\n",
    "## Resources\n",
    "\n",
    "- [jupyterviewer](https://jupyterviewers.org), for python and jupyter notebook tutorial resources.\n",
    "- [The Jupyter Widget Ecosystem](https://github.com/jupyter-widgets/tutorial).\n",
    "- [openthings](https://my.oschina.net/u/2306127), big-data, machine-learning, kubernetes, python and docker resources."
   ]
  },
  {
   "cell_type": "code",
   "execution_count": null,
   "metadata": {},
   "outputs": [],
   "source": []
  }
 ],
 "metadata": {
  "kernelspec": {
   "display_name": "Python 3",
   "language": "python",
   "name": "python3"
  },
  "language_info": {
   "codemirror_mode": {
    "name": "ipython",
    "version": 3
   },
   "file_extension": ".py",
   "mimetype": "text/x-python",
   "name": "python",
   "nbconvert_exporter": "python",
   "pygments_lexer": "ipython3",
   "version": "3.6.5"
  }
 },
 "nbformat": 4,
 "nbformat_minor": 2
}
